{
 "cells": [
  {
   "cell_type": "markdown",
   "metadata": {},
   "source": [
    "### Import Libreries"
   ]
  },
  {
   "cell_type": "code",
   "execution_count": 290,
   "metadata": {},
   "outputs": [],
   "source": [
    "#main Libraries\n",
    "import pandas as pd\n",
    "from pandas import DataFrame\n",
    "import os\n",
    "import numpy as np\n",
    "#visualisation libreries\n",
    "import seaborn as sns \n",
    "from matplotlib import pyplot as plt\n",
    "%matplotlib inline\n",
    "\n",
    "# Multi Label Pkgs\n",
    "from skmultilearn.problem_transform import BinaryRelevance \n",
    "from skmultilearn.problem_transform import ClassifierChain \n",
    "from skmultilearn.problem_transform import LabelPowerset\n",
    "from skmultilearn.adapt import MLkNN\n",
    "\n",
    "#Library for training\n",
    "from sklearn.model_selection import train_test_split\n",
    "from sklearn.metrics import accuracy_score"
   ]
  },
  {
   "cell_type": "markdown",
   "metadata": {},
   "source": [
    "# Working on the data"
   ]
  },
  {
   "cell_type": "code",
   "execution_count": 291,
   "metadata": {},
   "outputs": [
    {
     "data": {
      "text/html": [
       "<div>\n",
       "<style scoped>\n",
       "    .dataframe tbody tr th:only-of-type {\n",
       "        vertical-align: middle;\n",
       "    }\n",
       "\n",
       "    .dataframe tbody tr th {\n",
       "        vertical-align: top;\n",
       "    }\n",
       "\n",
       "    .dataframe thead th {\n",
       "        text-align: right;\n",
       "    }\n",
       "</style>\n",
       "<table border=\"1\" class=\"dataframe\">\n",
       "  <thead>\n",
       "    <tr style=\"text-align: right;\">\n",
       "      <th></th>\n",
       "      <th>dayAvgRhm</th>\n",
       "      <th>dayAvgTa</th>\n",
       "      <th>dayAvgWs</th>\n",
       "      <th>dayMaxTa</th>\n",
       "      <th>dayMinRhm</th>\n",
       "      <th>daySumRn</th>\n",
       "      <th>daySumSs</th>\n",
       "    </tr>\n",
       "  </thead>\n",
       "  <tbody>\n",
       "    <tr>\n",
       "      <th>count</th>\n",
       "      <td>1487.000000</td>\n",
       "      <td>1487.000000</td>\n",
       "      <td>1487.000000</td>\n",
       "      <td>1487.000000</td>\n",
       "      <td>1487.000000</td>\n",
       "      <td>1487.000000</td>\n",
       "      <td>1487.0</td>\n",
       "    </tr>\n",
       "    <tr>\n",
       "      <th>mean</th>\n",
       "      <td>55.921318</td>\n",
       "      <td>10.441829</td>\n",
       "      <td>1.137189</td>\n",
       "      <td>14.971083</td>\n",
       "      <td>34.105582</td>\n",
       "      <td>2.383322</td>\n",
       "      <td>0.0</td>\n",
       "    </tr>\n",
       "    <tr>\n",
       "      <th>std</th>\n",
       "      <td>29.425040</td>\n",
       "      <td>10.093597</td>\n",
       "      <td>0.919365</td>\n",
       "      <td>11.637809</td>\n",
       "      <td>22.135068</td>\n",
       "      <td>9.748089</td>\n",
       "      <td>0.0</td>\n",
       "    </tr>\n",
       "    <tr>\n",
       "      <th>min</th>\n",
       "      <td>0.000000</td>\n",
       "      <td>-10.000000</td>\n",
       "      <td>0.000000</td>\n",
       "      <td>-6.000000</td>\n",
       "      <td>0.000000</td>\n",
       "      <td>0.000000</td>\n",
       "      <td>0.0</td>\n",
       "    </tr>\n",
       "    <tr>\n",
       "      <th>25%</th>\n",
       "      <td>49.000000</td>\n",
       "      <td>0.000000</td>\n",
       "      <td>1.000000</td>\n",
       "      <td>3.000000</td>\n",
       "      <td>20.000000</td>\n",
       "      <td>0.000000</td>\n",
       "      <td>0.0</td>\n",
       "    </tr>\n",
       "    <tr>\n",
       "      <th>50%</th>\n",
       "      <td>65.000000</td>\n",
       "      <td>9.000000</td>\n",
       "      <td>1.000000</td>\n",
       "      <td>16.000000</td>\n",
       "      <td>36.000000</td>\n",
       "      <td>0.000000</td>\n",
       "      <td>0.0</td>\n",
       "    </tr>\n",
       "    <tr>\n",
       "      <th>75%</th>\n",
       "      <td>76.000000</td>\n",
       "      <td>20.000000</td>\n",
       "      <td>2.000000</td>\n",
       "      <td>26.000000</td>\n",
       "      <td>49.000000</td>\n",
       "      <td>0.000000</td>\n",
       "      <td>0.0</td>\n",
       "    </tr>\n",
       "    <tr>\n",
       "      <th>max</th>\n",
       "      <td>100.000000</td>\n",
       "      <td>32.000000</td>\n",
       "      <td>5.000000</td>\n",
       "      <td>39.000000</td>\n",
       "      <td>98.000000</td>\n",
       "      <td>116.000000</td>\n",
       "      <td>0.0</td>\n",
       "    </tr>\n",
       "  </tbody>\n",
       "</table>\n",
       "</div>"
      ],
      "text/plain": [
       "         dayAvgRhm     dayAvgTa     dayAvgWs     dayMaxTa    dayMinRhm  \\\n",
       "count  1487.000000  1487.000000  1487.000000  1487.000000  1487.000000   \n",
       "mean     55.921318    10.441829     1.137189    14.971083    34.105582   \n",
       "std      29.425040    10.093597     0.919365    11.637809    22.135068   \n",
       "min       0.000000   -10.000000     0.000000    -6.000000     0.000000   \n",
       "25%      49.000000     0.000000     1.000000     3.000000    20.000000   \n",
       "50%      65.000000     9.000000     1.000000    16.000000    36.000000   \n",
       "75%      76.000000    20.000000     2.000000    26.000000    49.000000   \n",
       "max     100.000000    32.000000     5.000000    39.000000    98.000000   \n",
       "\n",
       "          daySumRn  daySumSs  \n",
       "count  1487.000000    1487.0  \n",
       "mean      2.383322       0.0  \n",
       "std       9.748089       0.0  \n",
       "min       0.000000       0.0  \n",
       "25%       0.000000       0.0  \n",
       "50%       0.000000       0.0  \n",
       "75%       0.000000       0.0  \n",
       "max     116.000000       0.0  "
      ]
     },
     "execution_count": 291,
     "metadata": {},
     "output_type": "execute_result"
    }
   ],
   "source": [
    "# import data with panda\n",
    "data = pd.read_csv(\"pkt_radish.csv\", engine='python', index_col = 0)\n",
    "data.describe()"
   ]
  },
  {
   "cell_type": "markdown",
   "metadata": {},
   "source": [
    "## Data understanding throught visualisation"
   ]
  },
  {
   "cell_type": "code",
   "execution_count": null,
   "metadata": {},
   "outputs": [],
   "source": []
  },
  {
   "cell_type": "markdown",
   "metadata": {},
   "source": [
    "## Cleaning dataset"
   ]
  },
  {
   "cell_type": "code",
   "execution_count": 292,
   "metadata": {},
   "outputs": [],
   "source": [
    "# making a copy of the dataset in what we will work \n",
    "data_c = data.copy()"
   ]
  },
  {
   "cell_type": "code",
   "execution_count": 293,
   "metadata": {},
   "outputs": [
    {
     "data": {
      "text/plain": [
       "1064"
      ]
     },
     "execution_count": 293,
     "metadata": {},
     "output_type": "execute_result"
    }
   ],
   "source": [
    "#check if there sis null values in dataset\n",
    "data_c.isnull().sum().sum()"
   ]
  },
  {
   "cell_type": "code",
   "execution_count": 294,
   "metadata": {},
   "outputs": [],
   "source": [
    "# reemoving all empty data \n",
    "data_c = data_c.dropna(how='any')"
   ]
  },
  {
   "cell_type": "code",
   "execution_count": 295,
   "metadata": {},
   "outputs": [
    {
     "data": {
      "text/html": [
       "<div>\n",
       "<style scoped>\n",
       "    .dataframe tbody tr th:only-of-type {\n",
       "        vertical-align: middle;\n",
       "    }\n",
       "\n",
       "    .dataframe tbody tr th {\n",
       "        vertical-align: top;\n",
       "    }\n",
       "\n",
       "    .dataframe thead th {\n",
       "        text-align: right;\n",
       "    }\n",
       "</style>\n",
       "<table border=\"1\" class=\"dataframe\">\n",
       "  <thead>\n",
       "    <tr style=\"text-align: right;\">\n",
       "      <th></th>\n",
       "      <th>date</th>\n",
       "      <th>area</th>\n",
       "      <th>dayAvgRhm</th>\n",
       "      <th>dayAvgTa</th>\n",
       "      <th>dayAvgWs</th>\n",
       "      <th>dayMaxTa</th>\n",
       "      <th>dayMinRhm</th>\n",
       "      <th>daySumRn</th>\n",
       "      <th>daySumSs</th>\n",
       "      <th>paCropName</th>\n",
       "      <th>paCropSpeId</th>\n",
       "    </tr>\n",
       "    <tr>\n",
       "      <th>idx</th>\n",
       "      <th></th>\n",
       "      <th></th>\n",
       "      <th></th>\n",
       "      <th></th>\n",
       "      <th></th>\n",
       "      <th></th>\n",
       "      <th></th>\n",
       "      <th></th>\n",
       "      <th></th>\n",
       "      <th></th>\n",
       "      <th></th>\n",
       "    </tr>\n",
       "  </thead>\n",
       "  <tbody>\n",
       "    <tr>\n",
       "      <th>1</th>\n",
       "      <td>2017-01-28</td>\n",
       "      <td>평택</td>\n",
       "      <td>56</td>\n",
       "      <td>0</td>\n",
       "      <td>1</td>\n",
       "      <td>7</td>\n",
       "      <td>16</td>\n",
       "      <td>0</td>\n",
       "      <td>0</td>\n",
       "      <td>무</td>\n",
       "      <td>PA130401</td>\n",
       "    </tr>\n",
       "    <tr>\n",
       "      <th>2</th>\n",
       "      <td>2017-01-16</td>\n",
       "      <td>평택</td>\n",
       "      <td>59</td>\n",
       "      <td>-4</td>\n",
       "      <td>1</td>\n",
       "      <td>2</td>\n",
       "      <td>23</td>\n",
       "      <td>0</td>\n",
       "      <td>0</td>\n",
       "      <td>무</td>\n",
       "      <td>PA130401</td>\n",
       "    </tr>\n",
       "    <tr>\n",
       "      <th>4</th>\n",
       "      <td>2017-01-11</td>\n",
       "      <td>평택</td>\n",
       "      <td>63</td>\n",
       "      <td>-3</td>\n",
       "      <td>1</td>\n",
       "      <td>1</td>\n",
       "      <td>31</td>\n",
       "      <td>0</td>\n",
       "      <td>0</td>\n",
       "      <td>무</td>\n",
       "      <td>PA130401</td>\n",
       "    </tr>\n",
       "    <tr>\n",
       "      <th>5</th>\n",
       "      <td>2017-01-03</td>\n",
       "      <td>평택</td>\n",
       "      <td>82</td>\n",
       "      <td>2</td>\n",
       "      <td>1</td>\n",
       "      <td>7</td>\n",
       "      <td>58</td>\n",
       "      <td>0</td>\n",
       "      <td>0</td>\n",
       "      <td>무</td>\n",
       "      <td>PA130401</td>\n",
       "    </tr>\n",
       "    <tr>\n",
       "      <th>6</th>\n",
       "      <td>2017-01-07</td>\n",
       "      <td>평택</td>\n",
       "      <td>78</td>\n",
       "      <td>4</td>\n",
       "      <td>1</td>\n",
       "      <td>10</td>\n",
       "      <td>52</td>\n",
       "      <td>0</td>\n",
       "      <td>0</td>\n",
       "      <td>무</td>\n",
       "      <td>PA130401</td>\n",
       "    </tr>\n",
       "    <tr>\n",
       "      <th>...</th>\n",
       "      <td>...</td>\n",
       "      <td>...</td>\n",
       "      <td>...</td>\n",
       "      <td>...</td>\n",
       "      <td>...</td>\n",
       "      <td>...</td>\n",
       "      <td>...</td>\n",
       "      <td>...</td>\n",
       "      <td>...</td>\n",
       "      <td>...</td>\n",
       "      <td>...</td>\n",
       "    </tr>\n",
       "    <tr>\n",
       "      <th>1483</th>\n",
       "      <td>2020-12-28</td>\n",
       "      <td>평택</td>\n",
       "      <td>75</td>\n",
       "      <td>5</td>\n",
       "      <td>0</td>\n",
       "      <td>11</td>\n",
       "      <td>36</td>\n",
       "      <td>0</td>\n",
       "      <td>0</td>\n",
       "      <td>무</td>\n",
       "      <td>PA130401</td>\n",
       "    </tr>\n",
       "    <tr>\n",
       "      <th>1484</th>\n",
       "      <td>2020-12-13</td>\n",
       "      <td>평택</td>\n",
       "      <td>73</td>\n",
       "      <td>0</td>\n",
       "      <td>2</td>\n",
       "      <td>3</td>\n",
       "      <td>41</td>\n",
       "      <td>1</td>\n",
       "      <td>0</td>\n",
       "      <td>무</td>\n",
       "      <td>PA130401</td>\n",
       "    </tr>\n",
       "    <tr>\n",
       "      <th>1485</th>\n",
       "      <td>2020-12-11</td>\n",
       "      <td>평택</td>\n",
       "      <td>76</td>\n",
       "      <td>6</td>\n",
       "      <td>1</td>\n",
       "      <td>10</td>\n",
       "      <td>46</td>\n",
       "      <td>0</td>\n",
       "      <td>0</td>\n",
       "      <td>무</td>\n",
       "      <td>PA130401</td>\n",
       "    </tr>\n",
       "    <tr>\n",
       "      <th>1486</th>\n",
       "      <td>2020-12-20</td>\n",
       "      <td>평택</td>\n",
       "      <td>57</td>\n",
       "      <td>-3</td>\n",
       "      <td>1</td>\n",
       "      <td>1</td>\n",
       "      <td>29</td>\n",
       "      <td>0</td>\n",
       "      <td>0</td>\n",
       "      <td>무</td>\n",
       "      <td>PA130401</td>\n",
       "    </tr>\n",
       "    <tr>\n",
       "      <th>1487</th>\n",
       "      <td>2020-12-22</td>\n",
       "      <td>평택</td>\n",
       "      <td>70</td>\n",
       "      <td>1</td>\n",
       "      <td>1</td>\n",
       "      <td>7</td>\n",
       "      <td>42</td>\n",
       "      <td>0</td>\n",
       "      <td>0</td>\n",
       "      <td>무</td>\n",
       "      <td>PA130401</td>\n",
       "    </tr>\n",
       "  </tbody>\n",
       "</table>\n",
       "<p>1221 rows × 11 columns</p>\n",
       "</div>"
      ],
      "text/plain": [
       "            date area  dayAvgRhm  dayAvgTa  dayAvgWs  dayMaxTa  dayMinRhm  \\\n",
       "idx                                                                         \n",
       "1     2017-01-28   평택         56         0         1         7         16   \n",
       "2     2017-01-16   평택         59        -4         1         2         23   \n",
       "4     2017-01-11   평택         63        -3         1         1         31   \n",
       "5     2017-01-03   평택         82         2         1         7         58   \n",
       "6     2017-01-07   평택         78         4         1        10         52   \n",
       "...          ...  ...        ...       ...       ...       ...        ...   \n",
       "1483  2020-12-28   평택         75         5         0        11         36   \n",
       "1484  2020-12-13   평택         73         0         2         3         41   \n",
       "1485  2020-12-11   평택         76         6         1        10         46   \n",
       "1486  2020-12-20   평택         57        -3         1         1         29   \n",
       "1487  2020-12-22   평택         70         1         1         7         42   \n",
       "\n",
       "      daySumRn  daySumSs paCropName paCropSpeId  \n",
       "idx                                              \n",
       "1            0         0          무    PA130401  \n",
       "2            0         0          무    PA130401  \n",
       "4            0         0          무    PA130401  \n",
       "5            0         0          무    PA130401  \n",
       "6            0         0          무    PA130401  \n",
       "...        ...       ...        ...         ...  \n",
       "1483         0         0          무    PA130401  \n",
       "1484         1         0          무    PA130401  \n",
       "1485         0         0          무    PA130401  \n",
       "1486         0         0          무    PA130401  \n",
       "1487         0         0          무    PA130401  \n",
       "\n",
       "[1221 rows x 11 columns]"
      ]
     },
     "execution_count": 295,
     "metadata": {},
     "output_type": "execute_result"
    }
   ],
   "source": [
    "data_c"
   ]
  },
  {
   "cell_type": "code",
   "execution_count": 296,
   "metadata": {},
   "outputs": [
    {
     "data": {
      "text/plain": [
       "date           0\n",
       "area           0\n",
       "dayAvgRhm      0\n",
       "dayAvgTa       0\n",
       "dayAvgWs       0\n",
       "dayMaxTa       0\n",
       "dayMinRhm      0\n",
       "daySumRn       0\n",
       "daySumSs       0\n",
       "paCropName     0\n",
       "paCropSpeId    0\n",
       "dtype: int64"
      ]
     },
     "execution_count": 296,
     "metadata": {},
     "output_type": "execute_result"
    }
   ],
   "source": [
    "#checking if there still a null value in the dataset\n",
    "data_c.isnull().sum()"
   ]
  },
  {
   "cell_type": "code",
   "execution_count": 297,
   "metadata": {},
   "outputs": [
    {
     "name": "stdout",
     "output_type": "stream",
     "text": [
      "('date', dtype('O'))\n",
      "('area', dtype('O'))\n",
      "('dayAvgRhm', dtype('int64'))\n",
      "('dayAvgTa', dtype('int64'))\n",
      "('dayAvgWs', dtype('int64'))\n",
      "('dayMaxTa', dtype('int64'))\n",
      "('dayMinRhm', dtype('int64'))\n",
      "('daySumRn', dtype('int64'))\n",
      "('daySumSs', dtype('int64'))\n",
      "('paCropName', dtype('O'))\n",
      "('paCropSpeId', dtype('O'))\n"
     ]
    }
   ],
   "source": [
    "# checking data type \n",
    "for dtype in data.dtypes.iteritems(): \n",
    "    print(dtype)"
   ]
  },
  {
   "cell_type": "markdown",
   "metadata": {},
   "source": [
    "## Feature Modelisation"
   ]
  },
  {
   "cell_type": "code",
   "execution_count": 298,
   "metadata": {},
   "outputs": [
    {
     "data": {
      "text/plain": [
       "Index(['date', 'area', 'dayAvgRhm', 'dayAvgTa', 'dayAvgWs', 'dayMaxTa',\n",
       "       'dayMinRhm', 'daySumRn', 'daySumSs', 'paCropName', 'paCropSpeId'],\n",
       "      dtype='object')"
      ]
     },
     "execution_count": 298,
     "metadata": {},
     "output_type": "execute_result"
    }
   ],
   "source": [
    "data_c.columns"
   ]
  },
  {
   "cell_type": "code",
   "execution_count": 299,
   "metadata": {},
   "outputs": [
    {
     "data": {
      "text/plain": [
       "(1221, 11)"
      ]
     },
     "execution_count": 299,
     "metadata": {},
     "output_type": "execute_result"
    }
   ],
   "source": [
    "data_c.shape"
   ]
  },
  {
   "cell_type": "code",
   "execution_count": 300,
   "metadata": {},
   "outputs": [
    {
     "data": {
      "text/plain": [
       "idx\n",
       "1   2017-01-28\n",
       "2   2017-01-16\n",
       "4   2017-01-11\n",
       "5   2017-01-03\n",
       "6   2017-01-07\n",
       "Name: date, dtype: datetime64[ns]"
      ]
     },
     "execution_count": 300,
     "metadata": {},
     "output_type": "execute_result"
    }
   ],
   "source": [
    "#transform string to day time \n",
    "data_c['date'] = pd.to_datetime(data_c['date'], errors = 'coerce')\n",
    "data_c.date.head()"
   ]
  },
  {
   "cell_type": "code",
   "execution_count": 301,
   "metadata": {},
   "outputs": [
    {
     "data": {
      "text/html": [
       "<div>\n",
       "<style scoped>\n",
       "    .dataframe tbody tr th:only-of-type {\n",
       "        vertical-align: middle;\n",
       "    }\n",
       "\n",
       "    .dataframe tbody tr th {\n",
       "        vertical-align: top;\n",
       "    }\n",
       "\n",
       "    .dataframe thead th {\n",
       "        text-align: right;\n",
       "    }\n",
       "</style>\n",
       "<table border=\"1\" class=\"dataframe\">\n",
       "  <thead>\n",
       "    <tr style=\"text-align: right;\">\n",
       "      <th></th>\n",
       "      <th>date</th>\n",
       "      <th>area</th>\n",
       "      <th>dayAvgRhm</th>\n",
       "      <th>dayAvgTa</th>\n",
       "      <th>dayAvgWs</th>\n",
       "      <th>dayMaxTa</th>\n",
       "      <th>dayMinRhm</th>\n",
       "      <th>daySumRn</th>\n",
       "      <th>daySumSs</th>\n",
       "      <th>paCropName</th>\n",
       "      <th>paCropSpeId</th>\n",
       "      <th>month</th>\n",
       "      <th>day</th>\n",
       "    </tr>\n",
       "    <tr>\n",
       "      <th>idx</th>\n",
       "      <th></th>\n",
       "      <th></th>\n",
       "      <th></th>\n",
       "      <th></th>\n",
       "      <th></th>\n",
       "      <th></th>\n",
       "      <th></th>\n",
       "      <th></th>\n",
       "      <th></th>\n",
       "      <th></th>\n",
       "      <th></th>\n",
       "      <th></th>\n",
       "      <th></th>\n",
       "    </tr>\n",
       "  </thead>\n",
       "  <tbody>\n",
       "    <tr>\n",
       "      <th>1</th>\n",
       "      <td>2017-01-28</td>\n",
       "      <td>평택</td>\n",
       "      <td>56</td>\n",
       "      <td>0</td>\n",
       "      <td>1</td>\n",
       "      <td>7</td>\n",
       "      <td>16</td>\n",
       "      <td>0</td>\n",
       "      <td>0</td>\n",
       "      <td>무</td>\n",
       "      <td>PA130401</td>\n",
       "      <td>1</td>\n",
       "      <td>28</td>\n",
       "    </tr>\n",
       "    <tr>\n",
       "      <th>2</th>\n",
       "      <td>2017-01-16</td>\n",
       "      <td>평택</td>\n",
       "      <td>59</td>\n",
       "      <td>-4</td>\n",
       "      <td>1</td>\n",
       "      <td>2</td>\n",
       "      <td>23</td>\n",
       "      <td>0</td>\n",
       "      <td>0</td>\n",
       "      <td>무</td>\n",
       "      <td>PA130401</td>\n",
       "      <td>1</td>\n",
       "      <td>16</td>\n",
       "    </tr>\n",
       "    <tr>\n",
       "      <th>4</th>\n",
       "      <td>2017-01-11</td>\n",
       "      <td>평택</td>\n",
       "      <td>63</td>\n",
       "      <td>-3</td>\n",
       "      <td>1</td>\n",
       "      <td>1</td>\n",
       "      <td>31</td>\n",
       "      <td>0</td>\n",
       "      <td>0</td>\n",
       "      <td>무</td>\n",
       "      <td>PA130401</td>\n",
       "      <td>1</td>\n",
       "      <td>11</td>\n",
       "    </tr>\n",
       "    <tr>\n",
       "      <th>5</th>\n",
       "      <td>2017-01-03</td>\n",
       "      <td>평택</td>\n",
       "      <td>82</td>\n",
       "      <td>2</td>\n",
       "      <td>1</td>\n",
       "      <td>7</td>\n",
       "      <td>58</td>\n",
       "      <td>0</td>\n",
       "      <td>0</td>\n",
       "      <td>무</td>\n",
       "      <td>PA130401</td>\n",
       "      <td>1</td>\n",
       "      <td>3</td>\n",
       "    </tr>\n",
       "    <tr>\n",
       "      <th>6</th>\n",
       "      <td>2017-01-07</td>\n",
       "      <td>평택</td>\n",
       "      <td>78</td>\n",
       "      <td>4</td>\n",
       "      <td>1</td>\n",
       "      <td>10</td>\n",
       "      <td>52</td>\n",
       "      <td>0</td>\n",
       "      <td>0</td>\n",
       "      <td>무</td>\n",
       "      <td>PA130401</td>\n",
       "      <td>1</td>\n",
       "      <td>7</td>\n",
       "    </tr>\n",
       "  </tbody>\n",
       "</table>\n",
       "</div>"
      ],
      "text/plain": [
       "          date area  dayAvgRhm  dayAvgTa  dayAvgWs  dayMaxTa  dayMinRhm  \\\n",
       "idx                                                                       \n",
       "1   2017-01-28   평택         56         0         1         7         16   \n",
       "2   2017-01-16   평택         59        -4         1         2         23   \n",
       "4   2017-01-11   평택         63        -3         1         1         31   \n",
       "5   2017-01-03   평택         82         2         1         7         58   \n",
       "6   2017-01-07   평택         78         4         1        10         52   \n",
       "\n",
       "     daySumRn  daySumSs paCropName paCropSpeId  month  day  \n",
       "idx                                                         \n",
       "1           0         0          무    PA130401      1   28  \n",
       "2           0         0          무    PA130401      1   16  \n",
       "4           0         0          무    PA130401      1   11  \n",
       "5           0         0          무    PA130401      1    3  \n",
       "6           0         0          무    PA130401      1    7  "
      ]
     },
     "execution_count": 301,
     "metadata": {},
     "output_type": "execute_result"
    }
   ],
   "source": [
    "# creating separate columns for month and day because\n",
    "data_c['month'] = data_c['date'].dt.month\n",
    "data_c['day'] = data_c['date'].dt.day\n",
    "data_c.head()"
   ]
  },
  {
   "cell_type": "code",
   "execution_count": 302,
   "metadata": {},
   "outputs": [
    {
     "data": {
      "text/plain": [
       "month\n",
       "1      95\n",
       "2      99\n",
       "3     111\n",
       "4     102\n",
       "5     110\n",
       "6     103\n",
       "7     108\n",
       "8     104\n",
       "9      91\n",
       "10    104\n",
       "11    101\n",
       "12     93\n",
       "dtype: int64"
      ]
     },
     "execution_count": 302,
     "metadata": {},
     "output_type": "execute_result"
    }
   ],
   "source": [
    "data_c.groupby('month').size()"
   ]
  },
  {
   "cell_type": "code",
   "execution_count": 303,
   "metadata": {},
   "outputs": [
    {
     "data": {
      "text/plain": [
       "day\n",
       "1     42\n",
       "2     43\n",
       "3     43\n",
       "4     43\n",
       "5     42\n",
       "6     42\n",
       "7     43\n",
       "8     42\n",
       "9     43\n",
       "10    39\n",
       "11    40\n",
       "12    39\n",
       "13    44\n",
       "14    39\n",
       "15    37\n",
       "16    41\n",
       "17    41\n",
       "18    41\n",
       "19    43\n",
       "20    40\n",
       "21    44\n",
       "22    36\n",
       "23    39\n",
       "24    38\n",
       "25    38\n",
       "26    39\n",
       "27    38\n",
       "28    38\n",
       "29    36\n",
       "30    28\n",
       "31    20\n",
       "dtype: int64"
      ]
     },
     "execution_count": 303,
     "metadata": {},
     "output_type": "execute_result"
    }
   ],
   "source": [
    "data_c.groupby('day').size()"
   ]
  },
  {
   "cell_type": "code",
   "execution_count": 304,
   "metadata": {},
   "outputs": [],
   "source": [
    "#Create another column that will contains the numiric values of area\n",
    "data_c['area_id'] = data_c['area']"
   ]
  },
  {
   "cell_type": "code",
   "execution_count": 305,
   "metadata": {},
   "outputs": [],
   "source": [
    "data_c.loc[data['area'] == '평택', 'area_id'] = 1   ##평택 == 1"
   ]
  },
  {
   "cell_type": "code",
   "execution_count": 306,
   "metadata": {},
   "outputs": [],
   "source": [
    "#Create another column that will contains the numiric values of species\n",
    "data_c['crop_id'] = data_c['paCropName']"
   ]
  },
  {
   "cell_type": "code",
   "execution_count": 307,
   "metadata": {},
   "outputs": [],
   "source": [
    "data_c.loc[data['paCropName'] == '무', 'crop_id'] = 1   ##무 == 1"
   ]
  },
  {
   "cell_type": "code",
   "execution_count": 308,
   "metadata": {},
   "outputs": [
    {
     "data": {
      "text/html": [
       "<div>\n",
       "<style scoped>\n",
       "    .dataframe tbody tr th:only-of-type {\n",
       "        vertical-align: middle;\n",
       "    }\n",
       "\n",
       "    .dataframe tbody tr th {\n",
       "        vertical-align: top;\n",
       "    }\n",
       "\n",
       "    .dataframe thead th {\n",
       "        text-align: right;\n",
       "    }\n",
       "</style>\n",
       "<table border=\"1\" class=\"dataframe\">\n",
       "  <thead>\n",
       "    <tr style=\"text-align: right;\">\n",
       "      <th></th>\n",
       "      <th>date</th>\n",
       "      <th>area</th>\n",
       "      <th>dayAvgRhm</th>\n",
       "      <th>dayAvgTa</th>\n",
       "      <th>dayAvgWs</th>\n",
       "      <th>dayMaxTa</th>\n",
       "      <th>dayMinRhm</th>\n",
       "      <th>daySumRn</th>\n",
       "      <th>daySumSs</th>\n",
       "      <th>paCropName</th>\n",
       "      <th>paCropSpeId</th>\n",
       "      <th>month</th>\n",
       "      <th>day</th>\n",
       "      <th>area_id</th>\n",
       "      <th>crop_id</th>\n",
       "    </tr>\n",
       "    <tr>\n",
       "      <th>idx</th>\n",
       "      <th></th>\n",
       "      <th></th>\n",
       "      <th></th>\n",
       "      <th></th>\n",
       "      <th></th>\n",
       "      <th></th>\n",
       "      <th></th>\n",
       "      <th></th>\n",
       "      <th></th>\n",
       "      <th></th>\n",
       "      <th></th>\n",
       "      <th></th>\n",
       "      <th></th>\n",
       "      <th></th>\n",
       "      <th></th>\n",
       "    </tr>\n",
       "  </thead>\n",
       "  <tbody>\n",
       "    <tr>\n",
       "      <th>1</th>\n",
       "      <td>2017-01-28</td>\n",
       "      <td>평택</td>\n",
       "      <td>56</td>\n",
       "      <td>0</td>\n",
       "      <td>1</td>\n",
       "      <td>7</td>\n",
       "      <td>16</td>\n",
       "      <td>0</td>\n",
       "      <td>0</td>\n",
       "      <td>무</td>\n",
       "      <td>PA130401</td>\n",
       "      <td>1</td>\n",
       "      <td>28</td>\n",
       "      <td>1</td>\n",
       "      <td>1</td>\n",
       "    </tr>\n",
       "    <tr>\n",
       "      <th>2</th>\n",
       "      <td>2017-01-16</td>\n",
       "      <td>평택</td>\n",
       "      <td>59</td>\n",
       "      <td>-4</td>\n",
       "      <td>1</td>\n",
       "      <td>2</td>\n",
       "      <td>23</td>\n",
       "      <td>0</td>\n",
       "      <td>0</td>\n",
       "      <td>무</td>\n",
       "      <td>PA130401</td>\n",
       "      <td>1</td>\n",
       "      <td>16</td>\n",
       "      <td>1</td>\n",
       "      <td>1</td>\n",
       "    </tr>\n",
       "    <tr>\n",
       "      <th>4</th>\n",
       "      <td>2017-01-11</td>\n",
       "      <td>평택</td>\n",
       "      <td>63</td>\n",
       "      <td>-3</td>\n",
       "      <td>1</td>\n",
       "      <td>1</td>\n",
       "      <td>31</td>\n",
       "      <td>0</td>\n",
       "      <td>0</td>\n",
       "      <td>무</td>\n",
       "      <td>PA130401</td>\n",
       "      <td>1</td>\n",
       "      <td>11</td>\n",
       "      <td>1</td>\n",
       "      <td>1</td>\n",
       "    </tr>\n",
       "    <tr>\n",
       "      <th>5</th>\n",
       "      <td>2017-01-03</td>\n",
       "      <td>평택</td>\n",
       "      <td>82</td>\n",
       "      <td>2</td>\n",
       "      <td>1</td>\n",
       "      <td>7</td>\n",
       "      <td>58</td>\n",
       "      <td>0</td>\n",
       "      <td>0</td>\n",
       "      <td>무</td>\n",
       "      <td>PA130401</td>\n",
       "      <td>1</td>\n",
       "      <td>3</td>\n",
       "      <td>1</td>\n",
       "      <td>1</td>\n",
       "    </tr>\n",
       "    <tr>\n",
       "      <th>6</th>\n",
       "      <td>2017-01-07</td>\n",
       "      <td>평택</td>\n",
       "      <td>78</td>\n",
       "      <td>4</td>\n",
       "      <td>1</td>\n",
       "      <td>10</td>\n",
       "      <td>52</td>\n",
       "      <td>0</td>\n",
       "      <td>0</td>\n",
       "      <td>무</td>\n",
       "      <td>PA130401</td>\n",
       "      <td>1</td>\n",
       "      <td>7</td>\n",
       "      <td>1</td>\n",
       "      <td>1</td>\n",
       "    </tr>\n",
       "  </tbody>\n",
       "</table>\n",
       "</div>"
      ],
      "text/plain": [
       "          date area  dayAvgRhm  dayAvgTa  dayAvgWs  dayMaxTa  dayMinRhm  \\\n",
       "idx                                                                       \n",
       "1   2017-01-28   평택         56         0         1         7         16   \n",
       "2   2017-01-16   평택         59        -4         1         2         23   \n",
       "4   2017-01-11   평택         63        -3         1         1         31   \n",
       "5   2017-01-03   평택         82         2         1         7         58   \n",
       "6   2017-01-07   평택         78         4         1        10         52   \n",
       "\n",
       "     daySumRn  daySumSs paCropName paCropSpeId  month  day  area_id  crop_id  \n",
       "idx                                                                           \n",
       "1           0         0          무    PA130401      1   28        1        1  \n",
       "2           0         0          무    PA130401      1   16        1        1  \n",
       "4           0         0          무    PA130401      1   11        1        1  \n",
       "5           0         0          무    PA130401      1    3        1        1  \n",
       "6           0         0          무    PA130401      1    7        1        1  "
      ]
     },
     "execution_count": 308,
     "metadata": {},
     "output_type": "execute_result"
    }
   ],
   "source": [
    "data_c.head()"
   ]
  },
  {
   "cell_type": "markdown",
   "metadata": {},
   "source": [
    "#### Creating a binary targets for classification"
   ]
  },
  {
   "cell_type": "code",
   "execution_count": 309,
   "metadata": {},
   "outputs": [],
   "source": [
    "# For 무 we make the table true for certain contion\n",
    "data_c['can_produce'] = (data_c.paCropName.isin(['무']) & (data_c.dayAvgTa < 21) & (data_c.dayAvgTa > 14))"
   ]
  },
  {
   "cell_type": "code",
   "execution_count": 310,
   "metadata": {},
   "outputs": [
    {
     "data": {
      "text/html": [
       "<div>\n",
       "<style scoped>\n",
       "    .dataframe tbody tr th:only-of-type {\n",
       "        vertical-align: middle;\n",
       "    }\n",
       "\n",
       "    .dataframe tbody tr th {\n",
       "        vertical-align: top;\n",
       "    }\n",
       "\n",
       "    .dataframe thead th {\n",
       "        text-align: right;\n",
       "    }\n",
       "</style>\n",
       "<table border=\"1\" class=\"dataframe\">\n",
       "  <thead>\n",
       "    <tr style=\"text-align: right;\">\n",
       "      <th></th>\n",
       "      <th>date</th>\n",
       "      <th>area</th>\n",
       "      <th>dayAvgRhm</th>\n",
       "      <th>dayAvgTa</th>\n",
       "      <th>dayAvgWs</th>\n",
       "      <th>dayMaxTa</th>\n",
       "      <th>dayMinRhm</th>\n",
       "      <th>daySumRn</th>\n",
       "      <th>daySumSs</th>\n",
       "      <th>paCropName</th>\n",
       "      <th>paCropSpeId</th>\n",
       "      <th>month</th>\n",
       "      <th>day</th>\n",
       "      <th>area_id</th>\n",
       "      <th>crop_id</th>\n",
       "      <th>can_produce</th>\n",
       "      <th>target_value</th>\n",
       "    </tr>\n",
       "    <tr>\n",
       "      <th>idx</th>\n",
       "      <th></th>\n",
       "      <th></th>\n",
       "      <th></th>\n",
       "      <th></th>\n",
       "      <th></th>\n",
       "      <th></th>\n",
       "      <th></th>\n",
       "      <th></th>\n",
       "      <th></th>\n",
       "      <th></th>\n",
       "      <th></th>\n",
       "      <th></th>\n",
       "      <th></th>\n",
       "      <th></th>\n",
       "      <th></th>\n",
       "      <th></th>\n",
       "      <th></th>\n",
       "    </tr>\n",
       "  </thead>\n",
       "  <tbody>\n",
       "    <tr>\n",
       "      <th>1</th>\n",
       "      <td>2017-01-28</td>\n",
       "      <td>평택</td>\n",
       "      <td>56</td>\n",
       "      <td>0</td>\n",
       "      <td>1</td>\n",
       "      <td>7</td>\n",
       "      <td>16</td>\n",
       "      <td>0</td>\n",
       "      <td>0</td>\n",
       "      <td>무</td>\n",
       "      <td>PA130401</td>\n",
       "      <td>1</td>\n",
       "      <td>28</td>\n",
       "      <td>1</td>\n",
       "      <td>1</td>\n",
       "      <td>False</td>\n",
       "      <td>0</td>\n",
       "    </tr>\n",
       "    <tr>\n",
       "      <th>2</th>\n",
       "      <td>2017-01-16</td>\n",
       "      <td>평택</td>\n",
       "      <td>59</td>\n",
       "      <td>-4</td>\n",
       "      <td>1</td>\n",
       "      <td>2</td>\n",
       "      <td>23</td>\n",
       "      <td>0</td>\n",
       "      <td>0</td>\n",
       "      <td>무</td>\n",
       "      <td>PA130401</td>\n",
       "      <td>1</td>\n",
       "      <td>16</td>\n",
       "      <td>1</td>\n",
       "      <td>1</td>\n",
       "      <td>False</td>\n",
       "      <td>0</td>\n",
       "    </tr>\n",
       "    <tr>\n",
       "      <th>4</th>\n",
       "      <td>2017-01-11</td>\n",
       "      <td>평택</td>\n",
       "      <td>63</td>\n",
       "      <td>-3</td>\n",
       "      <td>1</td>\n",
       "      <td>1</td>\n",
       "      <td>31</td>\n",
       "      <td>0</td>\n",
       "      <td>0</td>\n",
       "      <td>무</td>\n",
       "      <td>PA130401</td>\n",
       "      <td>1</td>\n",
       "      <td>11</td>\n",
       "      <td>1</td>\n",
       "      <td>1</td>\n",
       "      <td>False</td>\n",
       "      <td>0</td>\n",
       "    </tr>\n",
       "    <tr>\n",
       "      <th>5</th>\n",
       "      <td>2017-01-03</td>\n",
       "      <td>평택</td>\n",
       "      <td>82</td>\n",
       "      <td>2</td>\n",
       "      <td>1</td>\n",
       "      <td>7</td>\n",
       "      <td>58</td>\n",
       "      <td>0</td>\n",
       "      <td>0</td>\n",
       "      <td>무</td>\n",
       "      <td>PA130401</td>\n",
       "      <td>1</td>\n",
       "      <td>3</td>\n",
       "      <td>1</td>\n",
       "      <td>1</td>\n",
       "      <td>False</td>\n",
       "      <td>0</td>\n",
       "    </tr>\n",
       "    <tr>\n",
       "      <th>6</th>\n",
       "      <td>2017-01-07</td>\n",
       "      <td>평택</td>\n",
       "      <td>78</td>\n",
       "      <td>4</td>\n",
       "      <td>1</td>\n",
       "      <td>10</td>\n",
       "      <td>52</td>\n",
       "      <td>0</td>\n",
       "      <td>0</td>\n",
       "      <td>무</td>\n",
       "      <td>PA130401</td>\n",
       "      <td>1</td>\n",
       "      <td>7</td>\n",
       "      <td>1</td>\n",
       "      <td>1</td>\n",
       "      <td>False</td>\n",
       "      <td>0</td>\n",
       "    </tr>\n",
       "  </tbody>\n",
       "</table>\n",
       "</div>"
      ],
      "text/plain": [
       "          date area  dayAvgRhm  dayAvgTa  dayAvgWs  dayMaxTa  dayMinRhm  \\\n",
       "idx                                                                       \n",
       "1   2017-01-28   평택         56         0         1         7         16   \n",
       "2   2017-01-16   평택         59        -4         1         2         23   \n",
       "4   2017-01-11   평택         63        -3         1         1         31   \n",
       "5   2017-01-03   평택         82         2         1         7         58   \n",
       "6   2017-01-07   평택         78         4         1        10         52   \n",
       "\n",
       "     daySumRn  daySumSs paCropName paCropSpeId  month  day  area_id  crop_id  \\\n",
       "idx                                                                            \n",
       "1           0         0          무    PA130401      1   28        1        1   \n",
       "2           0         0          무    PA130401      1   16        1        1   \n",
       "4           0         0          무    PA130401      1   11        1        1   \n",
       "5           0         0          무    PA130401      1    3        1        1   \n",
       "6           0         0          무    PA130401      1    7        1        1   \n",
       "\n",
       "     can_produce  target_value  \n",
       "idx                             \n",
       "1          False             0  \n",
       "2          False             0  \n",
       "4          False             0  \n",
       "5          False             0  \n",
       "6          False             0  "
      ]
     },
     "execution_count": 310,
     "metadata": {},
     "output_type": "execute_result"
    }
   ],
   "source": [
    "#transform the table in binary\n",
    "data_c['target_value'] = (data_c['can_produce']).astype('int')\n",
    "data_c.head()"
   ]
  },
  {
   "cell_type": "markdown",
   "metadata": {},
   "source": [
    "### Function to see prevalence"
   ]
  },
  {
   "cell_type": "code",
   "execution_count": 311,
   "metadata": {},
   "outputs": [],
   "source": [
    "def calc_prevalence(y): \n",
    "    return (sum(y)/len(y))"
   ]
  },
  {
   "cell_type": "code",
   "execution_count": 312,
   "metadata": {},
   "outputs": [
    {
     "data": {
      "text/plain": [
       "0.18427518427518427"
      ]
     },
     "execution_count": 312,
     "metadata": {},
     "output_type": "execute_result"
    }
   ],
   "source": [
    "calc_prevalence(data_c.target_value.values)"
   ]
  },
  {
   "cell_type": "markdown",
   "metadata": {},
   "source": [
    "### ploting for feature selection"
   ]
  },
  {
   "cell_type": "code",
   "execution_count": null,
   "metadata": {},
   "outputs": [],
   "source": []
  },
  {
   "cell_type": "markdown",
   "metadata": {},
   "source": [
    "## split samples : 70% train and 30% validation"
   ]
  },
  {
   "cell_type": "code",
   "execution_count": 313,
   "metadata": {},
   "outputs": [],
   "source": [
    "# shuffle the samples\n",
    "data_c = data_c.sample(n = len(data_c), random_state = 42)\n",
    "data_c = data_c.reset_index(drop = True)\n",
    "data_valid = data_c.sample(frac = 0.3, random_state = 42)\n",
    "data_train = data_c.drop(data_valid.index)"
   ]
  },
  {
   "cell_type": "code",
   "execution_count": 314,
   "metadata": {},
   "outputs": [
    {
     "name": "stdout",
     "output_type": "stream",
     "text": [
      "Valid prevalence(n = 366):0.197\n",
      "Train prevalence(n = 855):0.179\n"
     ]
    }
   ],
   "source": [
    "#calcul Prevalence\n",
    "print('Valid prevalence(n = %d):%.3f'%(len(data_valid),\n",
    "calc_prevalence(data_valid.target_value.values)))\n",
    "print('Train prevalence(n = %d):%.3f'%(len(data_train), \n",
    "calc_prevalence(data_train.target_value.values)))"
   ]
  },
  {
   "cell_type": "code",
   "execution_count": 262,
   "metadata": {},
   "outputs": [
    {
     "name": "stdout",
     "output_type": "stream",
     "text": [
      "<class 'pandas.core.frame.DataFrame'>\n",
      "RangeIndex: 1221 entries, 0 to 1220\n",
      "Data columns (total 17 columns):\n",
      "date            1221 non-null datetime64[ns]\n",
      "area            1221 non-null object\n",
      "dayAvgRhm       1221 non-null int64\n",
      "dayAvgTa        1221 non-null int64\n",
      "dayAvgWs        1221 non-null int64\n",
      "dayMaxTa        1221 non-null int64\n",
      "dayMinRhm       1221 non-null int64\n",
      "daySumRn        1221 non-null int64\n",
      "daySumSs        1221 non-null int64\n",
      "paCropName      1221 non-null object\n",
      "paCropSpeId     1221 non-null object\n",
      "month           1221 non-null int64\n",
      "day             1221 non-null int64\n",
      "area_id         1221 non-null int64\n",
      "crop_id         1221 non-null int64\n",
      "can_produce     1221 non-null bool\n",
      "target_value    1221 non-null int32\n",
      "dtypes: bool(1), datetime64[ns](1), int32(1), int64(11), object(3)\n",
      "memory usage: 149.2+ KB\n"
     ]
    }
   ],
   "source": [
    "data_c.info()"
   ]
  },
  {
   "cell_type": "code",
   "execution_count": 360,
   "metadata": {},
   "outputs": [],
   "source": [
    "# table of features\n",
    "features2use = ['dayMaxTa']  "
   ]
  },
  {
   "cell_type": "code",
   "execution_count": 361,
   "metadata": {},
   "outputs": [
    {
     "name": "stdout",
     "output_type": "stream",
     "text": [
      "training shapes:  (855, 1) (855,)\n",
      "training shapes:  (366, 1) (366,)\n"
     ]
    }
   ],
   "source": [
    "X_train = data_train[features2use].values\n",
    "X_valid = data_valid[features2use].values\n",
    "\n",
    "y_train = data_train['target_value'].values\n",
    "y_valid = data_valid['target_value'].values\n",
    "\n",
    "print('training shapes: ', X_train.shape, y_train.shape)\n",
    "print('training shapes: ', X_valid.shape, y_valid.shape)"
   ]
  },
  {
   "cell_type": "code",
   "execution_count": 362,
   "metadata": {},
   "outputs": [
    {
     "name": "stdout",
     "output_type": "stream",
     "text": [
      "BaseLine MAE:  0.29385\n"
     ]
    }
   ],
   "source": [
    "#Baseline Mean Error\n",
    "from sklearn.metrics import mean_absolute_error\n",
    "y_pred = [y_train.mean()] * len(y_train)\n",
    "\n",
    "print('BaseLine MAE: ', round(mean_absolute_error(y_train, y_pred), 5))"
   ]
  },
  {
   "cell_type": "markdown",
   "metadata": {},
   "source": [
    "## Train the Model with random Forest"
   ]
  },
  {
   "cell_type": "code",
   "execution_count": 363,
   "metadata": {},
   "outputs": [
    {
     "data": {
      "text/plain": [
       "RandomForestClassifier(bootstrap=True, class_weight=None, criterion='gini',\n",
       "                       max_depth=5, max_features='auto', max_leaf_nodes=None,\n",
       "                       min_impurity_decrease=0.0, min_impurity_split=None,\n",
       "                       min_samples_leaf=1, min_samples_split=2,\n",
       "                       min_weight_fraction_leaf=0.0, n_estimators=100,\n",
       "                       n_jobs=None, oob_score=False, random_state=42, verbose=0,\n",
       "                       warm_start=False)"
      ]
     },
     "execution_count": 363,
     "metadata": {},
     "output_type": "execute_result"
    }
   ],
   "source": [
    "from sklearn.ensemble import RandomForestClassifier\n",
    "rf=RandomForestClassifier(max_depth = 5, n_estimators=100, random_state = 42)\n",
    "rf.fit(X_train, y_train)"
   ]
  },
  {
   "cell_type": "markdown",
   "metadata": {},
   "source": [
    "#### Prediction "
   ]
  },
  {
   "cell_type": "code",
   "execution_count": 364,
   "metadata": {},
   "outputs": [],
   "source": [
    "y_train_preds = rf.predict_proba(X_train)[:,1]\n",
    "y_valid_preds = rf.predict_proba(X_valid)[:,1]"
   ]
  },
  {
   "cell_type": "markdown",
   "metadata": {},
   "source": [
    "#### Performance evalution "
   ]
  },
  {
   "cell_type": "code",
   "execution_count": 365,
   "metadata": {},
   "outputs": [],
   "source": [
    "from sklearn.metrics import roc_auc_score, accuracy_score, precision_score, recall_score\n",
    "def calc_specificity(y_actual, y_pred, thresh):\n",
    " # calculates specificity\n",
    " return sum((y_pred < thresh) & (y_actual == 0)) /sum(y_actual ==0)\n",
    "\n",
    "def print_report(y_actual, y_pred, thresh):  \n",
    "    auc = roc_auc_score(y_actual, y_pred)\n",
    "    accuracy = accuracy_score(y_actual, (y_pred > thresh))\n",
    "    recall = recall_score(y_actual, (y_pred > thresh))\n",
    "    precision = precision_score(y_actual, (y_pred > thresh))\n",
    "    specificity = calc_specificity(y_actual, y_pred, thresh)\n",
    "    print('AUC:%.3f'%auc)\n",
    "    print('accuracy:%.3f'%accuracy)\n",
    "    print('recall:%.3f'%recall)\n",
    "    print('precision:%.3f'%precision)\n",
    "    print('specificity:%.3f'%specificity)\n",
    "    print('prevalence:%.3f'%calc_prevalence(y_actual))\n",
    "    print(' ')\n",
    "    return auc, accuracy, recall, precision, specificity"
   ]
  },
  {
   "cell_type": "code",
   "execution_count": 366,
   "metadata": {},
   "outputs": [
    {
     "name": "stdout",
     "output_type": "stream",
     "text": [
      "random Forest\n",
      "trining\n",
      "AUC:0.946\n",
      "accuracy:0.861\n",
      "recall:0.895\n",
      "precision:0.571\n",
      "specificity:0.853\n",
      "prevalence:0.179\n",
      " \n",
      "validation: \n",
      "AUC:0.915\n",
      "accuracy:0.852\n",
      "recall:0.861\n",
      "precision:0.585\n",
      "specificity:0.850\n",
      "prevalence:0.197\n",
      " \n"
     ]
    }
   ],
   "source": [
    "thresh = 0.201\n",
    "print('random Forest')\n",
    "print('trining')\n",
    "print_report(y_train, y_train_preds, thresh);\n",
    "print('validation: ')\n",
    "print_report(y_valid, y_valid_preds, thresh);"
   ]
  },
  {
   "cell_type": "markdown",
   "metadata": {},
   "source": [
    "### Ploting "
   ]
  },
  {
   "cell_type": "code",
   "execution_count": 367,
   "metadata": {},
   "outputs": [
    {
     "data": {
      "image/png": "[encoded data removed]",
      "text/plain": [
       "<Figure size 432x288 with 1 Axes>"
      ]
     },
     "metadata": {
      "needs_background": "light"
     },
     "output_type": "display_data"
    }
   ],
   "source": [
    "### ROC curve \n",
    "from sklearn.metrics import roc_curve\n",
    "\n",
    "fpr_train, tpr_train, thresholds_train = roc_curve(y_train, y_train_preds)\n",
    "auc_train = roc_auc_score(y_train, y_train_preds)\n",
    "fpr_valid, tpr_valid, thresholds_valid = roc_curve(y_valid, y_valid_preds)\n",
    "auc_valid = roc_auc_score(y_valid, y_valid_preds)\n",
    "plt.plot(fpr_train, tpr_train, 'r-',label ='Train AUC:%.3f'%auc_train)\n",
    "plt.plot(fpr_valid, tpr_valid, 'b-',label ='Valid AUC:%.3f'%auc_valid)\n",
    "plt.plot([0,1],[0,1], 'k')\n",
    "plt.xlabel('False Positive Rate')\n",
    "plt.ylabel('True Positive Rate')\n",
    "plt.legend()\n",
    "plt.show()"
   ]
  },
  {
   "cell_type": "markdown",
   "metadata": {},
   "source": [
    "### investigating features for better usage"
   ]
  },
  {
   "cell_type": "code",
   "execution_count": 368,
   "metadata": {},
   "outputs": [
    {
     "data": {
      "image/png": "[encoded data removed]",
      "text/plain": [
       "<Figure size 480x480 with 1 Axes>"
      ]
     },
     "metadata": {},
     "output_type": "display_data"
    }
   ],
   "source": [
    "feature_importances = pd.DataFrame(rf.feature_importances_,\n",
    " index = features2use,\n",
    " columns=['importance']).sort_values('importance',ascending=False)\n",
    "\n",
    "num = min([50,len(features2use)])\n",
    "ylocs = np.arange(num)\n",
    "# get the feature importance for top num and sort in reverse order\n",
    "values_to_plot = feature_importances.iloc[:num].values.ravel()[::-1]\n",
    "feature_labels = list(feature_importances.iloc[:num].index)[::-1]\n",
    "plt.figure(num=None, figsize=(6, 6), dpi=80, facecolor='w', edgecolor='k');\n",
    "plt.barh(ylocs, values_to_plot, align = 'center')\n",
    "plt.ylabel('Features')\n",
    "plt.xlabel('Importance Score')\n",
    "plt.title('Feature Importance Score — Random Forest')\n",
    "plt.yticks(ylocs, feature_labels)\n",
    "plt.show()"
   ]
  },
  {
   "cell_type": "markdown",
   "metadata": {},
   "source": [
    "## Train the Model with Logistic regression "
   ]
  },
  {
   "cell_type": "code",
   "execution_count": 369,
   "metadata": {},
   "outputs": [
    {
     "name": "stdout",
     "output_type": "stream",
     "text": [
      "0.8210526315789474\n"
     ]
    }
   ],
   "source": [
    "#fit a logistic regression in on the training dataset \n",
    "\n",
    "from sklearn.linear_model import LogisticRegression\n",
    "from sklearn.metrics import accuracy_score \n",
    "\n",
    "model = LogisticRegression(solver='lbfgs')\n",
    "#fit\n",
    "model.fit(X_train, y_train)\n",
    "\n",
    "#make predictions\n",
    "\n",
    "yhat = model.predict(X_train)\n",
    "\n",
    "#evaluatin \n",
    "\n",
    "acc = accuracy_score(y_train, yhat)\n",
    "print(acc)"
   ]
  },
  {
   "cell_type": "code",
   "execution_count": 370,
   "metadata": {},
   "outputs": [
    {
     "data": {
      "text/html": [
       "<div>\n",
       "<style scoped>\n",
       "    .dataframe tbody tr th:only-of-type {\n",
       "        vertical-align: middle;\n",
       "    }\n",
       "\n",
       "    .dataframe tbody tr th {\n",
       "        vertical-align: top;\n",
       "    }\n",
       "\n",
       "    .dataframe thead th {\n",
       "        text-align: right;\n",
       "    }\n",
       "</style>\n",
       "<table border=\"1\" class=\"dataframe\">\n",
       "  <thead>\n",
       "    <tr style=\"text-align: right;\">\n",
       "      <th></th>\n",
       "      <th>date</th>\n",
       "      <th>area</th>\n",
       "      <th>dayAvgRhm</th>\n",
       "      <th>dayAvgTa</th>\n",
       "      <th>dayAvgWs</th>\n",
       "      <th>dayMaxTa</th>\n",
       "      <th>dayMinRhm</th>\n",
       "      <th>daySumRn</th>\n",
       "      <th>daySumSs</th>\n",
       "      <th>paCropName</th>\n",
       "      <th>paCropSpeId</th>\n",
       "      <th>month</th>\n",
       "      <th>day</th>\n",
       "      <th>area_id</th>\n",
       "      <th>crop_id</th>\n",
       "      <th>can_produce</th>\n",
       "      <th>target_value</th>\n",
       "    </tr>\n",
       "  </thead>\n",
       "  <tbody>\n",
       "    <tr>\n",
       "      <th>0</th>\n",
       "      <td>2018-09-04</td>\n",
       "      <td>평택</td>\n",
       "      <td>78</td>\n",
       "      <td>23</td>\n",
       "      <td>2</td>\n",
       "      <td>27</td>\n",
       "      <td>55</td>\n",
       "      <td>0</td>\n",
       "      <td>0</td>\n",
       "      <td>무</td>\n",
       "      <td>PA130401</td>\n",
       "      <td>9</td>\n",
       "      <td>4</td>\n",
       "      <td>1</td>\n",
       "      <td>1</td>\n",
       "      <td>False</td>\n",
       "      <td>0</td>\n",
       "    </tr>\n",
       "    <tr>\n",
       "      <th>1</th>\n",
       "      <td>2017-11-06</td>\n",
       "      <td>평택</td>\n",
       "      <td>74</td>\n",
       "      <td>8</td>\n",
       "      <td>1</td>\n",
       "      <td>16</td>\n",
       "      <td>44</td>\n",
       "      <td>0</td>\n",
       "      <td>0</td>\n",
       "      <td>무</td>\n",
       "      <td>PA130401</td>\n",
       "      <td>11</td>\n",
       "      <td>6</td>\n",
       "      <td>1</td>\n",
       "      <td>1</td>\n",
       "      <td>False</td>\n",
       "      <td>0</td>\n",
       "    </tr>\n",
       "    <tr>\n",
       "      <th>2</th>\n",
       "      <td>2017-02-15</td>\n",
       "      <td>평택</td>\n",
       "      <td>64</td>\n",
       "      <td>1</td>\n",
       "      <td>1</td>\n",
       "      <td>9</td>\n",
       "      <td>30</td>\n",
       "      <td>0</td>\n",
       "      <td>0</td>\n",
       "      <td>무</td>\n",
       "      <td>PA130401</td>\n",
       "      <td>2</td>\n",
       "      <td>15</td>\n",
       "      <td>1</td>\n",
       "      <td>1</td>\n",
       "      <td>False</td>\n",
       "      <td>0</td>\n",
       "    </tr>\n",
       "    <tr>\n",
       "      <th>3</th>\n",
       "      <td>2020-04-27</td>\n",
       "      <td>평택</td>\n",
       "      <td>51</td>\n",
       "      <td>11</td>\n",
       "      <td>2</td>\n",
       "      <td>18</td>\n",
       "      <td>20</td>\n",
       "      <td>0</td>\n",
       "      <td>0</td>\n",
       "      <td>무</td>\n",
       "      <td>PA130401</td>\n",
       "      <td>4</td>\n",
       "      <td>27</td>\n",
       "      <td>1</td>\n",
       "      <td>1</td>\n",
       "      <td>False</td>\n",
       "      <td>0</td>\n",
       "    </tr>\n",
       "    <tr>\n",
       "      <th>4</th>\n",
       "      <td>2019-07-18</td>\n",
       "      <td>평택</td>\n",
       "      <td>72</td>\n",
       "      <td>26</td>\n",
       "      <td>1</td>\n",
       "      <td>31</td>\n",
       "      <td>49</td>\n",
       "      <td>0</td>\n",
       "      <td>0</td>\n",
       "      <td>무</td>\n",
       "      <td>PA130401</td>\n",
       "      <td>7</td>\n",
       "      <td>18</td>\n",
       "      <td>1</td>\n",
       "      <td>1</td>\n",
       "      <td>False</td>\n",
       "      <td>0</td>\n",
       "    </tr>\n",
       "    <tr>\n",
       "      <th>...</th>\n",
       "      <td>...</td>\n",
       "      <td>...</td>\n",
       "      <td>...</td>\n",
       "      <td>...</td>\n",
       "      <td>...</td>\n",
       "      <td>...</td>\n",
       "      <td>...</td>\n",
       "      <td>...</td>\n",
       "      <td>...</td>\n",
       "      <td>...</td>\n",
       "      <td>...</td>\n",
       "      <td>...</td>\n",
       "      <td>...</td>\n",
       "      <td>...</td>\n",
       "      <td>...</td>\n",
       "      <td>...</td>\n",
       "      <td>...</td>\n",
       "    </tr>\n",
       "    <tr>\n",
       "      <th>1216</th>\n",
       "      <td>2020-05-11</td>\n",
       "      <td>평택</td>\n",
       "      <td>69</td>\n",
       "      <td>17</td>\n",
       "      <td>0</td>\n",
       "      <td>23</td>\n",
       "      <td>30</td>\n",
       "      <td>1</td>\n",
       "      <td>0</td>\n",
       "      <td>무</td>\n",
       "      <td>PA130401</td>\n",
       "      <td>5</td>\n",
       "      <td>11</td>\n",
       "      <td>1</td>\n",
       "      <td>1</td>\n",
       "      <td>True</td>\n",
       "      <td>1</td>\n",
       "    </tr>\n",
       "    <tr>\n",
       "      <th>1217</th>\n",
       "      <td>2020-08-20</td>\n",
       "      <td>평택</td>\n",
       "      <td>81</td>\n",
       "      <td>27</td>\n",
       "      <td>1</td>\n",
       "      <td>33</td>\n",
       "      <td>53</td>\n",
       "      <td>0</td>\n",
       "      <td>0</td>\n",
       "      <td>무</td>\n",
       "      <td>PA130401</td>\n",
       "      <td>8</td>\n",
       "      <td>20</td>\n",
       "      <td>1</td>\n",
       "      <td>1</td>\n",
       "      <td>False</td>\n",
       "      <td>0</td>\n",
       "    </tr>\n",
       "    <tr>\n",
       "      <th>1218</th>\n",
       "      <td>2020-09-26</td>\n",
       "      <td>평택</td>\n",
       "      <td>64</td>\n",
       "      <td>19</td>\n",
       "      <td>1</td>\n",
       "      <td>25</td>\n",
       "      <td>45</td>\n",
       "      <td>0</td>\n",
       "      <td>0</td>\n",
       "      <td>무</td>\n",
       "      <td>PA130401</td>\n",
       "      <td>9</td>\n",
       "      <td>26</td>\n",
       "      <td>1</td>\n",
       "      <td>1</td>\n",
       "      <td>True</td>\n",
       "      <td>1</td>\n",
       "    </tr>\n",
       "    <tr>\n",
       "      <th>1219</th>\n",
       "      <td>2019-11-14</td>\n",
       "      <td>평택</td>\n",
       "      <td>42</td>\n",
       "      <td>2</td>\n",
       "      <td>2</td>\n",
       "      <td>5</td>\n",
       "      <td>26</td>\n",
       "      <td>0</td>\n",
       "      <td>0</td>\n",
       "      <td>무</td>\n",
       "      <td>PA130401</td>\n",
       "      <td>11</td>\n",
       "      <td>14</td>\n",
       "      <td>1</td>\n",
       "      <td>1</td>\n",
       "      <td>False</td>\n",
       "      <td>0</td>\n",
       "    </tr>\n",
       "    <tr>\n",
       "      <th>1220</th>\n",
       "      <td>2020-09-17</td>\n",
       "      <td>평택</td>\n",
       "      <td>85</td>\n",
       "      <td>20</td>\n",
       "      <td>1</td>\n",
       "      <td>23</td>\n",
       "      <td>52</td>\n",
       "      <td>0</td>\n",
       "      <td>0</td>\n",
       "      <td>무</td>\n",
       "      <td>PA130401</td>\n",
       "      <td>9</td>\n",
       "      <td>17</td>\n",
       "      <td>1</td>\n",
       "      <td>1</td>\n",
       "      <td>True</td>\n",
       "      <td>1</td>\n",
       "    </tr>\n",
       "  </tbody>\n",
       "</table>\n",
       "<p>1221 rows × 17 columns</p>\n",
       "</div>"
      ],
      "text/plain": [
       "           date area  dayAvgRhm  dayAvgTa  dayAvgWs  dayMaxTa  dayMinRhm  \\\n",
       "0    2018-09-04   평택         78        23         2        27         55   \n",
       "1    2017-11-06   평택         74         8         1        16         44   \n",
       "2    2017-02-15   평택         64         1         1         9         30   \n",
       "3    2020-04-27   평택         51        11         2        18         20   \n",
       "4    2019-07-18   평택         72        26         1        31         49   \n",
       "...         ...  ...        ...       ...       ...       ...        ...   \n",
       "1216 2020-05-11   평택         69        17         0        23         30   \n",
       "1217 2020-08-20   평택         81        27         1        33         53   \n",
       "1218 2020-09-26   평택         64        19         1        25         45   \n",
       "1219 2019-11-14   평택         42         2         2         5         26   \n",
       "1220 2020-09-17   평택         85        20         1        23         52   \n",
       "\n",
       "      daySumRn  daySumSs paCropName paCropSpeId  month  day  area_id  crop_id  \\\n",
       "0            0         0          무    PA130401      9    4        1        1   \n",
       "1            0         0          무    PA130401     11    6        1        1   \n",
       "2            0         0          무    PA130401      2   15        1        1   \n",
       "3            0         0          무    PA130401      4   27        1        1   \n",
       "4            0         0          무    PA130401      7   18        1        1   \n",
       "...        ...       ...        ...         ...    ...  ...      ...      ...   \n",
       "1216         1         0          무    PA130401      5   11        1        1   \n",
       "1217         0         0          무    PA130401      8   20        1        1   \n",
       "1218         0         0          무    PA130401      9   26        1        1   \n",
       "1219         0         0          무    PA130401     11   14        1        1   \n",
       "1220         0         0          무    PA130401      9   17        1        1   \n",
       "\n",
       "      can_produce  target_value  \n",
       "0           False             0  \n",
       "1           False             0  \n",
       "2           False             0  \n",
       "3           False             0  \n",
       "4           False             0  \n",
       "...           ...           ...  \n",
       "1216         True             1  \n",
       "1217        False             0  \n",
       "1218         True             1  \n",
       "1219        False             0  \n",
       "1220         True             1  \n",
       "\n",
       "[1221 rows x 17 columns]"
      ]
     },
     "execution_count": 370,
     "metadata": {},
     "output_type": "execute_result"
    }
   ],
   "source": [
    "data_c"
   ]
  },
  {
   "cell_type": "markdown",
   "metadata": {},
   "source": [
    "### Try to create random input to see if the model works "
   ]
  },
  {
   "cell_type": "code",
   "execution_count": 372,
   "metadata": {},
   "outputs": [
    {
     "name": "stdout",
     "output_type": "stream",
     "text": [
      "[[23]] [0]\n"
     ]
    }
   ],
   "source": [
    "model = LogisticRegression(solver='lbfgs')\n",
    "#fit\n",
    "model.fit(X_train, y_train)\n",
    "#make predictions\n",
    "yhat = model.predict(X_train)\n",
    "#evaluatin \n",
    "acc = accuracy_score(y_train, yhat)\n",
    "#input\n",
    "new_input = [[23]]   ### ['month', 'dayMaxTa', 'dayMinRhm'] \n",
    "new_output = model.predict(new_input)\n",
    "\n",
    "print(new_input, new_output)"
   ]
  },
  {
   "cell_type": "code",
   "execution_count": null,
   "metadata": {},
   "outputs": [],
   "source": []
  },
  {
   "cell_type": "code",
   "execution_count": null,
   "metadata": {},
   "outputs": [],
   "source": []
  },
  {
   "cell_type": "code",
   "execution_count": null,
   "metadata": {},
   "outputs": [],
   "source": []
  },
  {
   "cell_type": "code",
   "execution_count": null,
   "metadata": {},
   "outputs": [],
   "source": []
  }
 ],
 "metadata": {
  "kernelspec": {
   "display_name": "Python 3",
   "language": "python",
   "name": "python3"
  },
  "language_info": {
   "codemirror_mode": {
    "name": "ipython",
    "version": 3
   },
   "file_extension": ".py",
   "mimetype": "text/x-python",
   "name": "python",
   "nbconvert_exporter": "python",
   "pygments_lexer": "ipython3",
   "version": "3.7.5"
  }
 },
 "nbformat": 4,
 "nbformat_minor": 2
}
