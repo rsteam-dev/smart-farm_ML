{
 "cells": [
  {
   "cell_type": "markdown",
   "metadata": {},
   "source": [
    "### Import Libreraies"
   ]
  },
  {
   "cell_type": "code",
   "execution_count": 917,
   "metadata": {},
   "outputs": [],
   "source": [
    "import pandas as pd \n",
    "import os\n",
    "import seaborn as sns\n",
    "from matplotlib import pyplot as plt\n",
    "%matplotlib inline\n",
    "\n",
    "from sklearn.model_selection import train_test_split\n",
    "from sklearn.metrics import accuracy_score\n",
    "\n",
    "from sklearn.linear_model import LinearRegression\n",
    "\n",
    "import tensorflow as tf\n",
    "from tensorflow import keras\n",
    "\n",
    "from sklearn import preprocessing\n",
    "\n",
    "import numpy as np\n",
    "\n",
    "import time\n",
    "\n",
    "from subprocess import check_output"
   ]
  },
  {
   "cell_type": "markdown",
   "metadata": {},
   "source": [
    "### import CSV file"
   ]
  },
  {
   "cell_type": "code",
   "execution_count": 918,
   "metadata": {},
   "outputs": [
    {
     "data": {
      "text/html": [
       "<div>\n",
       "<style scoped>\n",
       "    .dataframe tbody tr th:only-of-type {\n",
       "        vertical-align: middle;\n",
       "    }\n",
       "\n",
       "    .dataframe tbody tr th {\n",
       "        vertical-align: top;\n",
       "    }\n",
       "\n",
       "    .dataframe thead th {\n",
       "        text-align: right;\n",
       "    }\n",
       "</style>\n",
       "<table border=\"1\" class=\"dataframe\">\n",
       "  <thead>\n",
       "    <tr style=\"text-align: right;\">\n",
       "      <th></th>\n",
       "      <th>date</th>\n",
       "      <th>area</th>\n",
       "      <th>dayAvgRhm</th>\n",
       "      <th>dayAvgTa</th>\n",
       "      <th>dayAvgWs</th>\n",
       "      <th>dayMaxTa</th>\n",
       "      <th>dayMinRhm</th>\n",
       "      <th>daySumRn</th>\n",
       "      <th>daySumSs</th>\n",
       "      <th>paCropName</th>\n",
       "      <th>paCropSpeId</th>\n",
       "    </tr>\n",
       "    <tr>\n",
       "      <th>idx</th>\n",
       "      <th></th>\n",
       "      <th></th>\n",
       "      <th></th>\n",
       "      <th></th>\n",
       "      <th></th>\n",
       "      <th></th>\n",
       "      <th></th>\n",
       "      <th></th>\n",
       "      <th></th>\n",
       "      <th></th>\n",
       "      <th></th>\n",
       "    </tr>\n",
       "  </thead>\n",
       "  <tbody>\n",
       "    <tr>\n",
       "      <th>1</th>\n",
       "      <td>NaN</td>\n",
       "      <td>NaN</td>\n",
       "      <td>0</td>\n",
       "      <td>0</td>\n",
       "      <td>0</td>\n",
       "      <td>0</td>\n",
       "      <td>0</td>\n",
       "      <td>0</td>\n",
       "      <td>0</td>\n",
       "      <td>NaN</td>\n",
       "      <td>NaN</td>\n",
       "    </tr>\n",
       "    <tr>\n",
       "      <th>2</th>\n",
       "      <td>2017-01-05</td>\n",
       "      <td>춘천</td>\n",
       "      <td>74</td>\n",
       "      <td>2</td>\n",
       "      <td>1</td>\n",
       "      <td>7</td>\n",
       "      <td>52</td>\n",
       "      <td>0</td>\n",
       "      <td>0</td>\n",
       "      <td>들깨</td>\n",
       "      <td>PA100101</td>\n",
       "    </tr>\n",
       "    <tr>\n",
       "      <th>3</th>\n",
       "      <td>NaN</td>\n",
       "      <td>NaN</td>\n",
       "      <td>0</td>\n",
       "      <td>0</td>\n",
       "      <td>0</td>\n",
       "      <td>0</td>\n",
       "      <td>0</td>\n",
       "      <td>0</td>\n",
       "      <td>0</td>\n",
       "      <td>NaN</td>\n",
       "      <td>NaN</td>\n",
       "    </tr>\n",
       "    <tr>\n",
       "      <th>4</th>\n",
       "      <td>2017-01-27</td>\n",
       "      <td>춘천</td>\n",
       "      <td>62</td>\n",
       "      <td>-1</td>\n",
       "      <td>2</td>\n",
       "      <td>2</td>\n",
       "      <td>33</td>\n",
       "      <td>5</td>\n",
       "      <td>8</td>\n",
       "      <td>들깨</td>\n",
       "      <td>PA100101</td>\n",
       "    </tr>\n",
       "    <tr>\n",
       "      <th>5</th>\n",
       "      <td>2017-01-07</td>\n",
       "      <td>춘천</td>\n",
       "      <td>89</td>\n",
       "      <td>0</td>\n",
       "      <td>0</td>\n",
       "      <td>7</td>\n",
       "      <td>54</td>\n",
       "      <td>0</td>\n",
       "      <td>4</td>\n",
       "      <td>들깨</td>\n",
       "      <td>PA100101</td>\n",
       "    </tr>\n",
       "  </tbody>\n",
       "</table>\n",
       "</div>"
      ],
      "text/plain": [
       "           date area  dayAvgRhm  dayAvgTa  dayAvgWs  dayMaxTa  dayMinRhm  \\\n",
       "idx                                                                        \n",
       "1           NaN  NaN          0         0         0         0          0   \n",
       "2    2017-01-05   춘천         74         2         1         7         52   \n",
       "3           NaN  NaN          0         0         0         0          0   \n",
       "4    2017-01-27   춘천         62        -1         2         2         33   \n",
       "5    2017-01-07   춘천         89         0         0         7         54   \n",
       "\n",
       "     daySumRn  daySumSs paCropName paCropSpeId  \n",
       "idx                                             \n",
       "1           0         0        NaN         NaN  \n",
       "2           0         0         들깨    PA100101  \n",
       "3           0         0        NaN         NaN  \n",
       "4           5         8         들깨    PA100101  \n",
       "5           0         4         들깨    PA100101  "
      ]
     },
     "execution_count": 918,
     "metadata": {},
     "output_type": "execute_result"
    }
   ],
   "source": [
    "data = pd.read_csv(\"data_agriculture.csv\", engine='python', index_col=0)\n",
    "data.head()"
   ]
  },
  {
   "cell_type": "markdown",
   "metadata": {},
   "source": [
    "### Cleanining data with Panda"
   ]
  },
  {
   "cell_type": "markdown",
   "metadata": {},
   "source": [
    "### sumary of datas \n",
    "What are the features?\n",
    "What are the expected types (int, float, string, boolean)?\n",
    "Is there obvious missing data (v\n",
    "alues that Pandas can detect)?\n",
    "Is there other types of missing data that’s not so obvious (can’t easily detect with Pandas)?"
   ]
  },
  {
   "cell_type": "code",
   "execution_count": 919,
   "metadata": {
    "scrolled": true
   },
   "outputs": [],
   "source": [
    "null_df = data[data.isna().any(axis = 1)]\n",
    "\n",
    "data = data.dropna(how='any')"
   ]
  },
  {
   "cell_type": "code",
   "execution_count": 920,
   "metadata": {},
   "outputs": [
    {
     "name": "stdout",
     "output_type": "stream",
     "text": [
      "date object\n",
      "area object\n",
      "dayAvgRhm int64\n",
      "dayAvgTa int64\n",
      "dayAvgWs int64\n",
      "dayMaxTa int64\n",
      "dayMinRhm int64\n",
      "daySumRn int64\n",
      "daySumSs int64\n",
      "paCropName object\n",
      "paCropSpeId object\n"
     ]
    }
   ],
   "source": [
    "### check data type\n",
    "for Month, dtype in data.dtypes.iteritems():\n",
    "    print(Month, dtype)"
   ]
  },
  {
   "cell_type": "code",
   "execution_count": 921,
   "metadata": {},
   "outputs": [
    {
     "data": {
      "text/plain": [
       "date           False\n",
       "area           False\n",
       "dayAvgRhm      False\n",
       "dayAvgTa       False\n",
       "dayAvgWs       False\n",
       "dayMaxTa       False\n",
       "dayMinRhm      False\n",
       "daySumRn       False\n",
       "daySumSs       False\n",
       "paCropName     False\n",
       "paCropSpeId    False\n",
       "dtype: bool"
      ]
     },
     "execution_count": 921,
     "metadata": {},
     "output_type": "execute_result"
    }
   ],
   "source": [
    "### detect missing value \n",
    "data.isnull().any()"
   ]
  },
  {
   "cell_type": "code",
   "execution_count": 922,
   "metadata": {},
   "outputs": [
    {
     "data": {
      "text/plain": [
       "idx\n",
       "2       2017-01-05\n",
       "4       2017-01-27\n",
       "5       2017-01-07\n",
       "7       2017-01-03\n",
       "9       2017-01-06\n",
       "           ...    \n",
       "5669    2020-12-18\n",
       "5670    2020-12-06\n",
       "5671    2020-12-31\n",
       "5672    2020-12-11\n",
       "5673    2020-12-08\n",
       "Name: date, Length: 3772, dtype: object"
      ]
     },
     "execution_count": 922,
     "metadata": {},
     "output_type": "execute_result"
    }
   ],
   "source": [
    "data[\"area\"].isnull()\n",
    "data[\"date\"].isnull()\n",
    "data[\"date\"]"
   ]
  },
  {
   "cell_type": "markdown",
   "metadata": {},
   "source": [
    "### puting standard missing type in a list"
   ]
  },
  {
   "cell_type": "code",
   "execution_count": 923,
   "metadata": {},
   "outputs": [],
   "source": [
    "#missing_value = [\"n/a\", \"na\", \"-\"]\n",
    "missing_value = [\"NaN\"]\n",
    "data = data = pd.read_csv(\"data_agriculture.csv\", engine='python', na_values = missing_value)"
   ]
  },
  {
   "cell_type": "code",
   "execution_count": 924,
   "metadata": {},
   "outputs": [],
   "source": [
    "data = data.dropna()"
   ]
  },
  {
   "cell_type": "markdown",
   "metadata": {},
   "source": [
    "### unexpected missing data\n",
    "For example, if our feature is expected to be a string, but there’s a numeric type, then technically this is also a missing value."
   ]
  },
  {
   "cell_type": "markdown",
   "metadata": {},
   "source": [
    "###Detecting another data type\n",
    "cnt=0\n",
    "for row in data['dayAvgTa']:\n",
    "    try:\n",
    "        int(row)\n",
    "        data.loc[cnt, 'dayAvgTa']=np.nan\n",
    "    except ValueError:\n",
    "        pass\n",
    "    cnt+=1"
   ]
  },
  {
   "cell_type": "code",
   "execution_count": 925,
   "metadata": {},
   "outputs": [
    {
     "data": {
      "text/plain": [
       "idx            0\n",
       "date           0\n",
       "area           0\n",
       "dayAvgRhm      0\n",
       "dayAvgTa       0\n",
       "dayAvgWs       0\n",
       "dayMaxTa       0\n",
       "dayMinRhm      0\n",
       "daySumRn       0\n",
       "daySumSs       0\n",
       "paCropName     0\n",
       "paCropSpeId    0\n",
       "dtype: int64"
      ]
     },
     "execution_count": 925,
     "metadata": {},
     "output_type": "execute_result"
    }
   ],
   "source": [
    "data.isnull().sum()"
   ]
  },
  {
   "cell_type": "code",
   "execution_count": 926,
   "metadata": {},
   "outputs": [
    {
     "data": {
      "text/plain": [
       "False"
      ]
     },
     "execution_count": 926,
     "metadata": {},
     "output_type": "execute_result"
    }
   ],
   "source": [
    "data.isnull().values.any()"
   ]
  },
  {
   "cell_type": "code",
   "execution_count": 927,
   "metadata": {},
   "outputs": [
    {
     "data": {
      "text/plain": [
       "0"
      ]
     },
     "execution_count": 927,
     "metadata": {},
     "output_type": "execute_result"
    }
   ],
   "source": [
    "### Total number of missing value\n",
    "data.isnull().sum().sum()"
   ]
  },
  {
   "cell_type": "markdown",
   "metadata": {},
   "source": [
    "### remplacing missing values \n",
    "\n",
    "df['ST_NUM'].fillna(125, inplace=True)\n",
    "\n",
    "# Location based replacement\n",
    "df.loc[2,'ST_NUM'] = 125\n",
    "\n",
    "# Replace using median \n",
    "median = df['NUM_BEDROOMS'].median()\n",
    "df['NUM_BEDROOMS'].fillna(median, inplace=True)"
   ]
  },
  {
   "cell_type": "markdown",
   "metadata": {},
   "source": [
    "### inputing binaries in type column"
   ]
  },
  {
   "cell_type": "code",
   "execution_count": 928,
   "metadata": {},
   "outputs": [],
   "source": [
    "data['area_id'] = data['area']"
   ]
  },
  {
   "cell_type": "code",
   "execution_count": 929,
   "metadata": {},
   "outputs": [],
   "source": [
    "data.loc[data['area'] == '춘천', 'area_id'] = 0   ##춘천 == 0\n",
    "data.loc[data['area'] == '제주', 'area_id'] = 1   ##제주 == 1\n",
    "data.loc[data['area'] == '평택', 'area_id'] = 2   ##제주 == 2"
   ]
  },
  {
   "cell_type": "code",
   "execution_count": 930,
   "metadata": {},
   "outputs": [],
   "source": [
    "data['crop_id'] = data['paCropName']"
   ]
  },
  {
   "cell_type": "code",
   "execution_count": 931,
   "metadata": {},
   "outputs": [],
   "source": [
    "data.loc[data['paCropName'] == '쪽파', 'crop_id'] = -1   ##춘천 == 0\n",
    "data.loc[data['paCropName'] == '들깨', 'crop_id'] = 0   ##제주 == 1\n",
    "data.loc[data['paCropName'] == '무', 'crop_id'] = 1   ##제주 == 2"
   ]
  },
  {
   "cell_type": "markdown",
   "metadata": {},
   "source": [
    "### Data Preparation"
   ]
  },
  {
   "cell_type": "markdown",
   "metadata": {},
   "source": [
    "def wrangle (df): # create a functon in which we will call the data\n",
    "    df = df.copy()   # we copy the data not to corrupt the original\n",
    "    \n",
    "    df = df.drop(columns = ['paCropSpeId', 'daySumSs', 'daySumRn'], axis=0) #remove columns with none common values \n",
    "    df[\"date\"] = pd.to_datetime(df[\"date\"])\n"
   ]
  },
  {
   "cell_type": "code",
   "execution_count": 932,
   "metadata": {},
   "outputs": [
    {
     "data": {
      "text/plain": [
       "Index(['idx', 'date', 'area', 'dayAvgRhm', 'dayAvgTa', 'dayAvgWs', 'dayMaxTa',\n",
       "       'dayMinRhm', 'daySumRn', 'daySumSs', 'paCropName', 'paCropSpeId',\n",
       "       'area_id', 'crop_id'],\n",
       "      dtype='object')"
      ]
     },
     "execution_count": 932,
     "metadata": {},
     "output_type": "execute_result"
    }
   ],
   "source": [
    "#print( df[data.dayAvgTa > 18])\n",
    "data.columns"
   ]
  },
  {
   "cell_type": "code",
   "execution_count": 933,
   "metadata": {},
   "outputs": [],
   "source": [
    "#data = wrangle(data)"
   ]
  },
  {
   "cell_type": "code",
   "execution_count": 934,
   "metadata": {},
   "outputs": [
    {
     "data": {
      "text/plain": [
       "(3772, 14)"
      ]
     },
     "execution_count": 934,
     "metadata": {},
     "output_type": "execute_result"
    }
   ],
   "source": [
    "data.shape"
   ]
  },
  {
   "cell_type": "markdown",
   "metadata": {},
   "source": [
    "### Correlation visualization"
   ]
  },
  {
   "cell_type": "markdown",
   "metadata": {},
   "source": [
    "target = 'dayMaxTa'\n",
    "data['target'] = np.where(data['dayMaxTa']==15, 16, 17)\n",
    "##inputing binaries in type column\n",
    "data.loc[data['area'] == '춘천', 'area'] = 0   ##춘천 == 0\n",
    "data.loc[data['area'] == '제주', 'area'] = 1   ##제주 == 1\n",
    "data.loc[data['area'] == '평택', 'area'] = 2   ##제주 == 2"
   ]
  },
  {
   "cell_type": "markdown",
   "metadata": {},
   "source": [
    "### Separating Target from Features"
   ]
  },
  {
   "cell_type": "code",
   "execution_count": 935,
   "metadata": {},
   "outputs": [],
   "source": [
    "#Target \n",
    "target = 'dayMaxTa'\n",
    "Y = data[target]\n",
    "#features\n",
    "x = data[[\"area\", \"dayAvgRhm\", \"dayAvgTa\"]]"
   ]
  },
  {
   "cell_type": "code",
   "execution_count": 936,
   "metadata": {},
   "outputs": [],
   "source": [
    "#Train Test our features and target\n",
    "from sklearn.model_selection import train_test_split\n",
    "X_train, X_val, Y_train, Y_val = train_test_split(x, Y, test_size=0.25, random_state = 42)"
   ]
  },
  {
   "cell_type": "code",
   "execution_count": 937,
   "metadata": {},
   "outputs": [
    {
     "name": "stdout",
     "output_type": "stream",
     "text": [
      "(2829, 3)\n",
      "(943, 3)\n",
      "(2829,)\n",
      "(943,)\n"
     ]
    }
   ],
   "source": [
    "print(X_train.shape)\n",
    "print(X_val.shape)\n",
    "print(Y_train.shape)\n",
    "print(Y_val.shape)"
   ]
  },
  {
   "cell_type": "markdown",
   "metadata": {},
   "source": [
    "### Establish Baseline Mean Error "
   ]
  },
  {
   "cell_type": "code",
   "execution_count": 938,
   "metadata": {},
   "outputs": [
    {
     "name": "stdout",
     "output_type": "stream",
     "text": [
      "BaseLine MAE:  8.20127\n"
     ]
    }
   ],
   "source": [
    "from sklearn.metrics import mean_absolute_error\n",
    "y_pred = [Y_train.mean()] * len(Y_train)\n",
    "\n",
    "print('BaseLine MAE: ', round(mean_absolute_error(Y_train, y_pred), 5))"
   ]
  },
  {
   "cell_type": "code",
   "execution_count": 939,
   "metadata": {
    "scrolled": true
   },
   "outputs": [
    {
     "data": {
      "text/plain": [
       "array([  2,  -1,   0,   3,   1,  -3,  -2,   5,  -5,  -7,  -4,  -9, -10,\n",
       "         4,  -6,   8,   6,   9,   7,  13,  14,  17,  11,  10,  12,  18,\n",
       "        16,  15,  22,  20,  19,  23,  21,  26,  25,  24,  27,  28,  29,\n",
       "        -8, -11, -14, -12,  30,  32,  31], dtype=int64)"
      ]
     },
     "execution_count": 939,
     "metadata": {},
     "output_type": "execute_result"
    }
   ],
   "source": [
    "data['dayAvgTa'].unique()"
   ]
  },
  {
   "cell_type": "markdown",
   "metadata": {},
   "source": [
    "### Feature engineering & Label classification // Transform our problem into multi label classification "
   ]
  },
  {
   "cell_type": "code",
   "execution_count": 940,
   "metadata": {},
   "outputs": [],
   "source": [
    "# Multi Label Pkgs\n",
    "from skmultilearn.problem_transform import BinaryRelevance \n",
    "from skmultilearn.problem_transform import ClassifierChain \n",
    "from skmultilearn.problem_transform import LabelPowerset\n",
    "from skmultilearn.adapt import MLkNN"
   ]
  },
  {
   "cell_type": "markdown",
   "metadata": {},
   "source": [
    "data['CAN_PRODUCE'] = data.loc[data.dayAvgTa == 15, 'CAN_PRODUCE'] = \"Yes\"\n",
    "data['CAN_PRODUCE'] = data.loc[data.dayAvgTa == 16, 'CAN_PRODUCE'] = \"Yes\"\n",
    "data['CAN_PRODUCE'] = data.loc[data.dayAvgTa == 17, 'CAN_PRODUCE'] = \"Yes\"\n",
    "data['CAN_PRODUCE'] = data.loc[data.dayAvgTa == 18, 'CAN_PRODUCE'] = \"Yes\"\n",
    "data['CAN_PRODUCE'] = data.loc[data.dayAvgTa == 15, 'CAN_PRODUCE'] = \"Yes\""
   ]
  },
  {
   "cell_type": "code",
   "execution_count": 941,
   "metadata": {},
   "outputs": [
    {
     "data": {
      "text/plain": [
       "1   2017-01-05\n",
       "3   2017-01-27\n",
       "4   2017-01-07\n",
       "6   2017-01-03\n",
       "8   2017-01-06\n",
       "Name: date, dtype: datetime64[ns]"
      ]
     },
     "execution_count": 941,
     "metadata": {},
     "output_type": "execute_result"
    }
   ],
   "source": [
    "#Transform string to day time\n",
    "data['date'] = pd.to_datetime(data['date'], errors='coerce')\n",
    "data.date.head()"
   ]
  },
  {
   "cell_type": "code",
   "execution_count": 942,
   "metadata": {},
   "outputs": [],
   "source": [
    "#Getting month\n",
    "data['month'] = data['date'].dt.month\n",
    "data['day'] = data['date'].dt.day"
   ]
  },
  {
   "cell_type": "code",
   "execution_count": 943,
   "metadata": {
    "scrolled": true
   },
   "outputs": [
    {
     "data": {
      "text/plain": [
       "month\n",
       "1     355\n",
       "2     294\n",
       "3     332\n",
       "4     312\n",
       "5     316\n",
       "6     283\n",
       "7     302\n",
       "8     300\n",
       "9     289\n",
       "10    325\n",
       "11    326\n",
       "12    338\n",
       "dtype: int64"
      ]
     },
     "execution_count": 943,
     "metadata": {},
     "output_type": "execute_result"
    }
   ],
   "source": [
    "data.groupby('month').size()"
   ]
  },
  {
   "cell_type": "markdown",
   "metadata": {},
   "source": [
    "### spacies can produce"
   ]
  },
  {
   "cell_type": "code",
   "execution_count": 951,
   "metadata": {},
   "outputs": [],
   "source": [
    "def calc_prevalence(y):\n",
    "    return (sum(y)/len(y))"
   ]
  },
  {
   "cell_type": "code",
   "execution_count": 952,
   "metadata": {},
   "outputs": [],
   "source": [
    "data['CAN_PRODUCE'] = (data.paCropName.isin(['무']) & (data.dayAvgTa < 21) & (data.dayAvgTa > 14))"
   ]
  },
  {
   "cell_type": "code",
   "execution_count": 962,
   "metadata": {},
   "outputs": [],
   "source": [
    "data['CAN_PRODUCE'] = np.where(data['CAN_PRODUCE'] == 0,\n",
    "                              np.where((data.paCropName.isin(['들깨']) & data.dayAvgTa < 24) & (data.dayAvgTa > 18), True, False),\n",
    "                              data['CAN_PRODUCE'])"
   ]
  },
  {
   "cell_type": "code",
   "execution_count": 963,
   "metadata": {},
   "outputs": [],
   "source": [
    "data['CAN_PRODUCE'] = np.where(data['CAN_PRODUCE'] == 0,\n",
    "                              np.where(data.paCropName.isin(['쪽파']) & (data.dayAvgTa < 24) & (data.dayAvgTa > 17), True, False),\n",
    "                              data['CAN_PRODUCE'])"
   ]
  },
  {
   "cell_type": "code",
   "execution_count": 964,
   "metadata": {},
   "outputs": [],
   "source": [
    "data['OUTPUT_LABEL'] = (data['CAN_PRODUCE']).astype('int')"
   ]
  },
  {
   "cell_type": "code",
   "execution_count": 965,
   "metadata": {},
   "outputs": [
    {
     "data": {
      "text/plain": [
       "0.3992576882290562"
      ]
     },
     "execution_count": 965,
     "metadata": {},
     "output_type": "execute_result"
    }
   ],
   "source": [
    "calc_prevalence(data.OUTPUT_LABEL.values)"
   ]
  },
  {
   "cell_type": "code",
   "execution_count": 966,
   "metadata": {},
   "outputs": [
    {
     "data": {
      "text/html": [
       "<div>\n",
       "<style scoped>\n",
       "    .dataframe tbody tr th:only-of-type {\n",
       "        vertical-align: middle;\n",
       "    }\n",
       "\n",
       "    .dataframe tbody tr th {\n",
       "        vertical-align: top;\n",
       "    }\n",
       "\n",
       "    .dataframe thead th {\n",
       "        text-align: right;\n",
       "    }\n",
       "</style>\n",
       "<table border=\"1\" class=\"dataframe\">\n",
       "  <thead>\n",
       "    <tr style=\"text-align: right;\">\n",
       "      <th></th>\n",
       "      <th>idx</th>\n",
       "      <th>date</th>\n",
       "      <th>area</th>\n",
       "      <th>dayAvgRhm</th>\n",
       "      <th>dayAvgTa</th>\n",
       "      <th>dayAvgWs</th>\n",
       "      <th>dayMaxTa</th>\n",
       "      <th>dayMinRhm</th>\n",
       "      <th>daySumRn</th>\n",
       "      <th>daySumSs</th>\n",
       "      <th>paCropName</th>\n",
       "      <th>paCropSpeId</th>\n",
       "      <th>area_id</th>\n",
       "      <th>crop_id</th>\n",
       "      <th>month</th>\n",
       "      <th>day</th>\n",
       "      <th>CAN_PRODUCE</th>\n",
       "      <th>OUTPUT_LABEL</th>\n",
       "    </tr>\n",
       "  </thead>\n",
       "  <tbody>\n",
       "    <tr>\n",
       "      <th>1</th>\n",
       "      <td>2</td>\n",
       "      <td>2017-01-05</td>\n",
       "      <td>춘천</td>\n",
       "      <td>74</td>\n",
       "      <td>2</td>\n",
       "      <td>1</td>\n",
       "      <td>7</td>\n",
       "      <td>52</td>\n",
       "      <td>0</td>\n",
       "      <td>0</td>\n",
       "      <td>들깨</td>\n",
       "      <td>PA100101</td>\n",
       "      <td>0</td>\n",
       "      <td>0</td>\n",
       "      <td>1</td>\n",
       "      <td>5</td>\n",
       "      <td>False</td>\n",
       "      <td>0</td>\n",
       "    </tr>\n",
       "    <tr>\n",
       "      <th>3</th>\n",
       "      <td>4</td>\n",
       "      <td>2017-01-27</td>\n",
       "      <td>춘천</td>\n",
       "      <td>62</td>\n",
       "      <td>-1</td>\n",
       "      <td>2</td>\n",
       "      <td>2</td>\n",
       "      <td>33</td>\n",
       "      <td>5</td>\n",
       "      <td>8</td>\n",
       "      <td>들깨</td>\n",
       "      <td>PA100101</td>\n",
       "      <td>0</td>\n",
       "      <td>0</td>\n",
       "      <td>1</td>\n",
       "      <td>27</td>\n",
       "      <td>False</td>\n",
       "      <td>0</td>\n",
       "    </tr>\n",
       "    <tr>\n",
       "      <th>4</th>\n",
       "      <td>5</td>\n",
       "      <td>2017-01-07</td>\n",
       "      <td>춘천</td>\n",
       "      <td>89</td>\n",
       "      <td>0</td>\n",
       "      <td>0</td>\n",
       "      <td>7</td>\n",
       "      <td>54</td>\n",
       "      <td>0</td>\n",
       "      <td>4</td>\n",
       "      <td>들깨</td>\n",
       "      <td>PA100101</td>\n",
       "      <td>0</td>\n",
       "      <td>0</td>\n",
       "      <td>1</td>\n",
       "      <td>7</td>\n",
       "      <td>False</td>\n",
       "      <td>0</td>\n",
       "    </tr>\n",
       "    <tr>\n",
       "      <th>6</th>\n",
       "      <td>7</td>\n",
       "      <td>2017-01-03</td>\n",
       "      <td>춘천</td>\n",
       "      <td>78</td>\n",
       "      <td>0</td>\n",
       "      <td>1</td>\n",
       "      <td>7</td>\n",
       "      <td>31</td>\n",
       "      <td>0</td>\n",
       "      <td>5</td>\n",
       "      <td>들깨</td>\n",
       "      <td>PA100101</td>\n",
       "      <td>0</td>\n",
       "      <td>0</td>\n",
       "      <td>1</td>\n",
       "      <td>3</td>\n",
       "      <td>False</td>\n",
       "      <td>0</td>\n",
       "    </tr>\n",
       "    <tr>\n",
       "      <th>8</th>\n",
       "      <td>9</td>\n",
       "      <td>2017-01-06</td>\n",
       "      <td>춘천</td>\n",
       "      <td>77</td>\n",
       "      <td>3</td>\n",
       "      <td>0</td>\n",
       "      <td>10</td>\n",
       "      <td>41</td>\n",
       "      <td>0</td>\n",
       "      <td>7</td>\n",
       "      <td>들깨</td>\n",
       "      <td>PA100101</td>\n",
       "      <td>0</td>\n",
       "      <td>0</td>\n",
       "      <td>1</td>\n",
       "      <td>6</td>\n",
       "      <td>False</td>\n",
       "      <td>0</td>\n",
       "    </tr>\n",
       "    <tr>\n",
       "      <th>...</th>\n",
       "      <td>...</td>\n",
       "      <td>...</td>\n",
       "      <td>...</td>\n",
       "      <td>...</td>\n",
       "      <td>...</td>\n",
       "      <td>...</td>\n",
       "      <td>...</td>\n",
       "      <td>...</td>\n",
       "      <td>...</td>\n",
       "      <td>...</td>\n",
       "      <td>...</td>\n",
       "      <td>...</td>\n",
       "      <td>...</td>\n",
       "      <td>...</td>\n",
       "      <td>...</td>\n",
       "      <td>...</td>\n",
       "      <td>...</td>\n",
       "      <td>...</td>\n",
       "    </tr>\n",
       "    <tr>\n",
       "      <th>2818</th>\n",
       "      <td>2819</td>\n",
       "      <td>2020-03-04</td>\n",
       "      <td>평택</td>\n",
       "      <td>63</td>\n",
       "      <td>2</td>\n",
       "      <td>3</td>\n",
       "      <td>5</td>\n",
       "      <td>44</td>\n",
       "      <td>0</td>\n",
       "      <td>0</td>\n",
       "      <td>무</td>\n",
       "      <td>PA130401</td>\n",
       "      <td>2</td>\n",
       "      <td>1</td>\n",
       "      <td>3</td>\n",
       "      <td>4</td>\n",
       "      <td>False</td>\n",
       "      <td>0</td>\n",
       "    </tr>\n",
       "    <tr>\n",
       "      <th>2819</th>\n",
       "      <td>2820</td>\n",
       "      <td>2020-03-23</td>\n",
       "      <td>평택</td>\n",
       "      <td>53</td>\n",
       "      <td>9</td>\n",
       "      <td>2</td>\n",
       "      <td>16</td>\n",
       "      <td>30</td>\n",
       "      <td>0</td>\n",
       "      <td>0</td>\n",
       "      <td>무</td>\n",
       "      <td>PA130401</td>\n",
       "      <td>2</td>\n",
       "      <td>1</td>\n",
       "      <td>3</td>\n",
       "      <td>23</td>\n",
       "      <td>False</td>\n",
       "      <td>0</td>\n",
       "    </tr>\n",
       "    <tr>\n",
       "      <th>2820</th>\n",
       "      <td>2821</td>\n",
       "      <td>2020-03-16</td>\n",
       "      <td>평택</td>\n",
       "      <td>53</td>\n",
       "      <td>3</td>\n",
       "      <td>2</td>\n",
       "      <td>10</td>\n",
       "      <td>21</td>\n",
       "      <td>0</td>\n",
       "      <td>0</td>\n",
       "      <td>무</td>\n",
       "      <td>PA130401</td>\n",
       "      <td>2</td>\n",
       "      <td>1</td>\n",
       "      <td>3</td>\n",
       "      <td>16</td>\n",
       "      <td>False</td>\n",
       "      <td>0</td>\n",
       "    </tr>\n",
       "    <tr>\n",
       "      <th>2822</th>\n",
       "      <td>2823</td>\n",
       "      <td>2020-04-02</td>\n",
       "      <td>평택</td>\n",
       "      <td>50</td>\n",
       "      <td>9</td>\n",
       "      <td>1</td>\n",
       "      <td>16</td>\n",
       "      <td>16</td>\n",
       "      <td>0</td>\n",
       "      <td>0</td>\n",
       "      <td>무</td>\n",
       "      <td>PA130401</td>\n",
       "      <td>2</td>\n",
       "      <td>1</td>\n",
       "      <td>4</td>\n",
       "      <td>2</td>\n",
       "      <td>False</td>\n",
       "      <td>0</td>\n",
       "    </tr>\n",
       "    <tr>\n",
       "      <th>2823</th>\n",
       "      <td>2824</td>\n",
       "      <td>2020-04-20</td>\n",
       "      <td>평택</td>\n",
       "      <td>76</td>\n",
       "      <td>10</td>\n",
       "      <td>2</td>\n",
       "      <td>15</td>\n",
       "      <td>57</td>\n",
       "      <td>0</td>\n",
       "      <td>0</td>\n",
       "      <td>무</td>\n",
       "      <td>PA130401</td>\n",
       "      <td>2</td>\n",
       "      <td>1</td>\n",
       "      <td>4</td>\n",
       "      <td>20</td>\n",
       "      <td>False</td>\n",
       "      <td>0</td>\n",
       "    </tr>\n",
       "  </tbody>\n",
       "</table>\n",
       "<p>2250 rows × 18 columns</p>\n",
       "</div>"
      ],
      "text/plain": [
       "       idx       date area  dayAvgRhm  dayAvgTa  dayAvgWs  dayMaxTa  \\\n",
       "1        2 2017-01-05   춘천         74         2         1         7   \n",
       "3        4 2017-01-27   춘천         62        -1         2         2   \n",
       "4        5 2017-01-07   춘천         89         0         0         7   \n",
       "6        7 2017-01-03   춘천         78         0         1         7   \n",
       "8        9 2017-01-06   춘천         77         3         0        10   \n",
       "...    ...        ...  ...        ...       ...       ...       ...   \n",
       "2818  2819 2020-03-04   평택         63         2         3         5   \n",
       "2819  2820 2020-03-23   평택         53         9         2        16   \n",
       "2820  2821 2020-03-16   평택         53         3         2        10   \n",
       "2822  2823 2020-04-02   평택         50         9         1        16   \n",
       "2823  2824 2020-04-20   평택         76        10         2        15   \n",
       "\n",
       "      dayMinRhm  daySumRn  daySumSs paCropName paCropSpeId  area_id  crop_id  \\\n",
       "1            52         0         0         들깨    PA100101        0        0   \n",
       "3            33         5         8         들깨    PA100101        0        0   \n",
       "4            54         0         4         들깨    PA100101        0        0   \n",
       "6            31         0         5         들깨    PA100101        0        0   \n",
       "8            41         0         7         들깨    PA100101        0        0   \n",
       "...         ...       ...       ...        ...         ...      ...      ...   \n",
       "2818         44         0         0          무    PA130401        2        1   \n",
       "2819         30         0         0          무    PA130401        2        1   \n",
       "2820         21         0         0          무    PA130401        2        1   \n",
       "2822         16         0         0          무    PA130401        2        1   \n",
       "2823         57         0         0          무    PA130401        2        1   \n",
       "\n",
       "      month  day  CAN_PRODUCE  OUTPUT_LABEL  \n",
       "1         1    5        False             0  \n",
       "3         1   27        False             0  \n",
       "4         1    7        False             0  \n",
       "6         1    3        False             0  \n",
       "8         1    6        False             0  \n",
       "...     ...  ...          ...           ...  \n",
       "2818      3    4        False             0  \n",
       "2819      3   23        False             0  \n",
       "2820      3   16        False             0  \n",
       "2822      4    2        False             0  \n",
       "2823      4   20        False             0  \n",
       "\n",
       "[2250 rows x 18 columns]"
      ]
     },
     "execution_count": 966,
     "metadata": {},
     "output_type": "execute_result"
    }
   ],
   "source": [
    "data.head(2250)"
   ]
  },
  {
   "cell_type": "markdown",
   "metadata": {},
   "source": [
    "### ploting and feature selection"
   ]
  },
  {
   "cell_type": "code",
   "execution_count": 968,
   "metadata": {
    "scrolled": true
   },
   "outputs": [
    {
     "name": "stdout",
     "output_type": "stream",
     "text": [
      "can be planted:  1\n",
      "can not be planted 0\n"
     ]
    },
    {
     "data": {
      "image/png": "[encoded data removed]",
      "text/plain": [
       "<Figure size 432x288 with 1 Axes>"
      ]
     },
     "metadata": {
      "needs_background": "light"
     },
     "output_type": "display_data"
    }
   ],
   "source": [
    "y = data.OUTPUT_LABEL\n",
    "list = ['dayAvgTa', 'OUTPUT_LABEL']\n",
    "ax = sns.countplot(y, label=\"Count\")\n",
    "T, F = y.value_counts()\n",
    "print('can be planted: ',1 )\n",
    "print('can not be planted', 0)"
   ]
  },
  {
   "cell_type": "code",
   "execution_count": 969,
   "metadata": {},
   "outputs": [
    {
     "data": {
      "text/html": [
       "<div>\n",
       "<style scoped>\n",
       "    .dataframe tbody tr th:only-of-type {\n",
       "        vertical-align: middle;\n",
       "    }\n",
       "\n",
       "    .dataframe tbody tr th {\n",
       "        vertical-align: top;\n",
       "    }\n",
       "\n",
       "    .dataframe thead th {\n",
       "        text-align: right;\n",
       "    }\n",
       "</style>\n",
       "<table border=\"1\" class=\"dataframe\">\n",
       "  <thead>\n",
       "    <tr style=\"text-align: right;\">\n",
       "      <th></th>\n",
       "      <th>idx</th>\n",
       "      <th>dayAvgRhm</th>\n",
       "      <th>dayAvgWs</th>\n",
       "      <th>dayMaxTa</th>\n",
       "      <th>dayMinRhm</th>\n",
       "      <th>daySumRn</th>\n",
       "      <th>daySumSs</th>\n",
       "      <th>area_id</th>\n",
       "      <th>crop_id</th>\n",
       "      <th>month</th>\n",
       "      <th>day</th>\n",
       "    </tr>\n",
       "  </thead>\n",
       "  <tbody>\n",
       "    <tr>\n",
       "      <th>count</th>\n",
       "      <td>3772.000000</td>\n",
       "      <td>3772.000000</td>\n",
       "      <td>3772.000000</td>\n",
       "      <td>3772.00000</td>\n",
       "      <td>3772.000000</td>\n",
       "      <td>3772.000000</td>\n",
       "      <td>3772.000000</td>\n",
       "      <td>3772.000000</td>\n",
       "      <td>3772.000000</td>\n",
       "      <td>3772.000000</td>\n",
       "      <td>3772.000000</td>\n",
       "    </tr>\n",
       "    <tr>\n",
       "      <th>mean</th>\n",
       "      <td>2696.262725</td>\n",
       "      <td>68.520679</td>\n",
       "      <td>1.637328</td>\n",
       "      <td>17.98701</td>\n",
       "      <td>44.578738</td>\n",
       "      <td>2.994963</td>\n",
       "      <td>3.659332</td>\n",
       "      <td>0.990456</td>\n",
       "      <td>-0.019353</td>\n",
       "      <td>6.487805</td>\n",
       "      <td>15.311241</td>\n",
       "    </tr>\n",
       "    <tr>\n",
       "      <th>std</th>\n",
       "      <td>1771.076149</td>\n",
       "      <td>13.902084</td>\n",
       "      <td>1.188858</td>\n",
       "      <td>9.63616</td>\n",
       "      <td>17.057032</td>\n",
       "      <td>12.399315</td>\n",
       "      <td>4.154955</td>\n",
       "      <td>0.810573</td>\n",
       "      <td>0.816430</td>\n",
       "      <td>3.524902</td>\n",
       "      <td>8.718750</td>\n",
       "    </tr>\n",
       "    <tr>\n",
       "      <th>min</th>\n",
       "      <td>2.000000</td>\n",
       "      <td>0.000000</td>\n",
       "      <td>0.000000</td>\n",
       "      <td>-9.00000</td>\n",
       "      <td>0.000000</td>\n",
       "      <td>0.000000</td>\n",
       "      <td>0.000000</td>\n",
       "      <td>0.000000</td>\n",
       "      <td>-1.000000</td>\n",
       "      <td>1.000000</td>\n",
       "      <td>1.000000</td>\n",
       "    </tr>\n",
       "    <tr>\n",
       "      <th>25%</th>\n",
       "      <td>1145.750000</td>\n",
       "      <td>59.000000</td>\n",
       "      <td>1.000000</td>\n",
       "      <td>10.00000</td>\n",
       "      <td>32.000000</td>\n",
       "      <td>0.000000</td>\n",
       "      <td>0.000000</td>\n",
       "      <td>0.000000</td>\n",
       "      <td>-1.000000</td>\n",
       "      <td>3.000000</td>\n",
       "      <td>8.000000</td>\n",
       "    </tr>\n",
       "    <tr>\n",
       "      <th>50%</th>\n",
       "      <td>2410.500000</td>\n",
       "      <td>69.000000</td>\n",
       "      <td>1.000000</td>\n",
       "      <td>19.00000</td>\n",
       "      <td>45.000000</td>\n",
       "      <td>0.000000</td>\n",
       "      <td>1.000000</td>\n",
       "      <td>1.000000</td>\n",
       "      <td>0.000000</td>\n",
       "      <td>6.000000</td>\n",
       "      <td>15.000000</td>\n",
       "    </tr>\n",
       "    <tr>\n",
       "      <th>75%</th>\n",
       "      <td>4522.250000</td>\n",
       "      <td>78.000000</td>\n",
       "      <td>2.000000</td>\n",
       "      <td>26.00000</td>\n",
       "      <td>55.000000</td>\n",
       "      <td>0.000000</td>\n",
       "      <td>7.000000</td>\n",
       "      <td>2.000000</td>\n",
       "      <td>1.000000</td>\n",
       "      <td>10.000000</td>\n",
       "      <td>23.000000</td>\n",
       "    </tr>\n",
       "    <tr>\n",
       "      <th>max</th>\n",
       "      <td>5673.000000</td>\n",
       "      <td>100.000000</td>\n",
       "      <td>11.000000</td>\n",
       "      <td>39.00000</td>\n",
       "      <td>99.000000</td>\n",
       "      <td>265.000000</td>\n",
       "      <td>13.000000</td>\n",
       "      <td>2.000000</td>\n",
       "      <td>1.000000</td>\n",
       "      <td>12.000000</td>\n",
       "      <td>31.000000</td>\n",
       "    </tr>\n",
       "  </tbody>\n",
       "</table>\n",
       "</div>"
      ],
      "text/plain": [
       "               idx    dayAvgRhm     dayAvgWs    dayMaxTa    dayMinRhm  \\\n",
       "count  3772.000000  3772.000000  3772.000000  3772.00000  3772.000000   \n",
       "mean   2696.262725    68.520679     1.637328    17.98701    44.578738   \n",
       "std    1771.076149    13.902084     1.188858     9.63616    17.057032   \n",
       "min       2.000000     0.000000     0.000000    -9.00000     0.000000   \n",
       "25%    1145.750000    59.000000     1.000000    10.00000    32.000000   \n",
       "50%    2410.500000    69.000000     1.000000    19.00000    45.000000   \n",
       "75%    4522.250000    78.000000     2.000000    26.00000    55.000000   \n",
       "max    5673.000000   100.000000    11.000000    39.00000    99.000000   \n",
       "\n",
       "          daySumRn     daySumSs      area_id      crop_id        month  \\\n",
       "count  3772.000000  3772.000000  3772.000000  3772.000000  3772.000000   \n",
       "mean      2.994963     3.659332     0.990456    -0.019353     6.487805   \n",
       "std      12.399315     4.154955     0.810573     0.816430     3.524902   \n",
       "min       0.000000     0.000000     0.000000    -1.000000     1.000000   \n",
       "25%       0.000000     0.000000     0.000000    -1.000000     3.000000   \n",
       "50%       0.000000     1.000000     1.000000     0.000000     6.000000   \n",
       "75%       0.000000     7.000000     2.000000     1.000000    10.000000   \n",
       "max     265.000000    13.000000     2.000000     1.000000    12.000000   \n",
       "\n",
       "               day  \n",
       "count  3772.000000  \n",
       "mean     15.311241  \n",
       "std       8.718750  \n",
       "min       1.000000  \n",
       "25%       8.000000  \n",
       "50%      15.000000  \n",
       "75%      23.000000  \n",
       "max      31.000000  "
      ]
     },
     "execution_count": 969,
     "metadata": {},
     "output_type": "execute_result"
    }
   ],
   "source": [
    "x = data.drop(list, axis = 1)\n",
    "x.describe()"
   ]
  },
  {
   "cell_type": "code",
   "execution_count": null,
   "metadata": {},
   "outputs": [],
   "source": []
  },
  {
   "cell_type": "code",
   "execution_count": 971,
   "metadata": {},
   "outputs": [
    {
     "data": {
      "text/plain": [
       "month\n",
       "1     0.002817\n",
       "2     0.000000\n",
       "3     0.003012\n",
       "4     0.115385\n",
       "5     0.664557\n",
       "6     0.978799\n",
       "7     0.983444\n",
       "8     0.986667\n",
       "9     0.882353\n",
       "10    0.375385\n",
       "11    0.030675\n",
       "12    0.002959\n",
       "dtype: float64"
      ]
     },
     "execution_count": 971,
     "metadata": {},
     "output_type": "execute_result"
    }
   ],
   "source": [
    "data.groupby('month').apply(lambda g: calc_prevalence(g.OUTPUT_LABEL.values))"
   ]
  },
  {
   "cell_type": "raw",
   "metadata": {},
   "source": [
    "### Calculate Time between day time \n",
    "df[‘reping_days’] = (df[‘day’]-df[‘Maxday’]).dt.total_seconds()/(60*60*24) I can create a function for reaping date"
   ]
  },
  {
   "cell_type": "markdown",
   "metadata": {},
   "source": [
    "### split sample  "
   ]
  },
  {
   "cell_type": "code",
   "execution_count": 972,
   "metadata": {},
   "outputs": [],
   "source": [
    "#shuffling\n",
    "data = data.sample(n = len(data), random_state = 42)\n",
    "data = data.reset_index(drop = True)\n",
    "\n",
    "data_valid = data.sample(frac = 0.3, random_state = 42)\n",
    "data_train = data.drop(data_valid.index)"
   ]
  },
  {
   "cell_type": "markdown",
   "metadata": {},
   "source": [
    "### Finding Important features"
   ]
  },
  {
   "cell_type": "code",
   "execution_count": null,
   "metadata": {},
   "outputs": [],
   "source": []
  },
  {
   "cell_type": "code",
   "execution_count": 973,
   "metadata": {},
   "outputs": [
    {
     "name": "stdout",
     "output_type": "stream",
     "text": [
      "Valid prevalence(n = 1132):0.403\n",
      "Train prevalence(n = 2640):0.398\n"
     ]
    }
   ],
   "source": [
    "### Checking relevance \n",
    "print('Valid prevalence(n = %d):%.3f'%(len(data_valid),calc_prevalence(data_valid.OUTPUT_LABEL.values)))\n",
    "print('Train prevalence(n = %d):%.3f'%(len(data_train), calc_prevalence(data_train.OUTPUT_LABEL.values)))"
   ]
  },
  {
   "cell_type": "code",
   "execution_count": 975,
   "metadata": {},
   "outputs": [],
   "source": [
    "#features to use\n",
    "col2use = ['area_id', 'dayMaxTa', 'month', 'crop_id']"
   ]
  },
  {
   "cell_type": "markdown",
   "metadata": {},
   "source": [
    "### build our X (inputs) and Y(output) for training and validation"
   ]
  },
  {
   "cell_type": "code",
   "execution_count": 976,
   "metadata": {},
   "outputs": [
    {
     "name": "stdout",
     "output_type": "stream",
     "text": [
      "Training shapes: (2640, 4) (2640,)\n",
      "Validation shapes: (1132, 4) (1132,)\n"
     ]
    }
   ],
   "source": [
    "X_train = data_train[col2use].values\n",
    "X_valid = data_valid[col2use].values\n",
    "\n",
    "y_train = data_train['OUTPUT_LABEL'].values\n",
    "y_valid = data_valid['OUTPUT_LABEL'].values\n",
    "print('Training shapes:', X_train.shape, y_train.shape)\n",
    "print('Validation shapes:', X_valid.shape, y_valid.shape)"
   ]
  },
  {
   "cell_type": "markdown",
   "metadata": {},
   "source": [
    "### Random Forest"
   ]
  },
  {
   "cell_type": "code",
   "execution_count": 977,
   "metadata": {},
   "outputs": [
    {
     "data": {
      "text/plain": [
       "RandomForestClassifier(bootstrap=True, class_weight=None, criterion='gini',\n",
       "                       max_depth=5, max_features='auto', max_leaf_nodes=None,\n",
       "                       min_impurity_decrease=0.0, min_impurity_split=None,\n",
       "                       min_samples_leaf=1, min_samples_split=2,\n",
       "                       min_weight_fraction_leaf=0.0, n_estimators=100,\n",
       "                       n_jobs=None, oob_score=False, random_state=42, verbose=0,\n",
       "                       warm_start=False)"
      ]
     },
     "execution_count": 977,
     "metadata": {},
     "output_type": "execute_result"
    }
   ],
   "source": [
    "from sklearn.ensemble import RandomForestClassifier\n",
    "rf=RandomForestClassifier(max_depth = 5, n_estimators=100, random_state = 42)\n",
    "rf.fit(X_train, y_train)"
   ]
  },
  {
   "cell_type": "code",
   "execution_count": 978,
   "metadata": {},
   "outputs": [],
   "source": [
    "# get the prediction\n",
    "y_train_preds = rf.predict_proba(X_train)[:,1]\n",
    "y_valid_preds = rf.predict_proba(X_valid)[:,1]"
   ]
  },
  {
   "cell_type": "markdown",
   "metadata": {},
   "source": [
    "### Evaluate Performance"
   ]
  },
  {
   "cell_type": "code",
   "execution_count": 979,
   "metadata": {},
   "outputs": [],
   "source": [
    "from sklearn.metrics import roc_auc_score, accuracy_score, precision_score, recall_score\n",
    "\n",
    "def calc_specificity(y_actual, y_pred, thresh):\n",
    " # calculates specificity\n",
    " return sum((y_pred < thresh) & (y_actual == 0)) /sum(y_actual ==0)\n",
    "def print_report(y_actual, y_pred, thresh):\n",
    " \n",
    "    auc = roc_auc_score(y_actual, y_pred)\n",
    "    accuracy = accuracy_score(y_actual, (y_pred > thresh))\n",
    "    recall = recall_score(y_actual, (y_pred > thresh))\n",
    "    precision = precision_score(y_actual, (y_pred > thresh))\n",
    "    specificity = calc_specificity(y_actual, y_pred, thresh)\n",
    "    print('AUC:%.3f'%auc)\n",
    "    print('accuracy:%.3f' %accuracy)\n",
    "    print('recall:%.3f' %recall)\n",
    "    print('precision:%.3f' %precision)\n",
    "    print('specificity:%.3f' %specificity)\n",
    "    print('prevalence:%.3f' %calc_prevalence(y_actual))\n",
    "    print('')\n",
    "    return auc, accuracy, recall, precision, specificity"
   ]
  },
  {
   "cell_type": "code",
   "execution_count": 980,
   "metadata": {},
   "outputs": [
    {
     "name": "stdout",
     "output_type": "stream",
     "text": [
      "Random Forest\n",
      "Training: \n",
      "AUC:0.996\n",
      "accuracy:0.951\n",
      "recall:0.993\n",
      "precision:0.895\n",
      "specificity:0.923\n",
      "prevalence:0.398\n",
      "\n",
      "Validation: \n",
      "AUC:0.995\n",
      "accuracy:0.950\n",
      "recall:0.989\n",
      "precision:0.897\n",
      "specificity:0.923\n",
      "prevalence:0.403\n",
      "\n"
     ]
    },
    {
     "data": {
      "text/plain": [
       "(0.9946700145333749,\n",
       " 0.9496466431095406,\n",
       " 0.9890350877192983,\n",
       " 0.8966202783300199,\n",
       " 0.9230769230769231)"
      ]
     },
     "execution_count": 980,
     "metadata": {},
     "output_type": "execute_result"
    }
   ],
   "source": [
    "#print repport \n",
    "thresh = 0.201\n",
    "print('Random Forest')\n",
    "print('Training: ')\n",
    "print_report(y_train, y_train_preds, thresh);\n",
    "print('Validation: ')\n",
    "print_report(y_valid,y_valid_preds, thresh)"
   ]
  },
  {
   "cell_type": "markdown",
   "metadata": {},
   "source": [
    "### ploting "
   ]
  },
  {
   "cell_type": "code",
   "execution_count": 981,
   "metadata": {},
   "outputs": [
    {
     "data": {
      "image/png": "[encoded data removed]",
      "text/plain": [
       "<Figure size 432x288 with 1 Axes>"
      ]
     },
     "metadata": {
      "needs_background": "light"
     },
     "output_type": "display_data"
    }
   ],
   "source": [
    "### ROC curve \n",
    "from sklearn.metrics import roc_curve\n",
    "\n",
    "fpr_train, tpr_train, thresholds_train = roc_curve(y_train, y_train_preds)\n",
    "auc_train = roc_auc_score(y_train, y_train_preds)\n",
    "fpr_valid, tpr_valid, thresholds_valid = roc_curve(y_valid, y_valid_preds)\n",
    "auc_valid = roc_auc_score(y_valid, y_valid_preds)\n",
    "plt.plot(fpr_train, tpr_train, 'r-',label ='Train AUC:%.3f'%auc_train)\n",
    "plt.plot(fpr_valid, tpr_valid, 'b-',label ='Valid AUC:%.3f'%auc_valid)\n",
    "plt.plot([0,1],[0,1], 'k')\n",
    "plt.xlabel('False Positive Rate')\n",
    "plt.ylabel('True Positive Rate')\n",
    "plt.legend()\n",
    "plt.show()"
   ]
  },
  {
   "cell_type": "markdown",
   "metadata": {},
   "source": [
    "###  investigation  on Features"
   ]
  },
  {
   "cell_type": "code",
   "execution_count": 982,
   "metadata": {},
   "outputs": [
    {
     "ename": "TypeError",
     "evalue": "'builtin_function_or_method' object is not subscriptable",
     "output_type": "error",
     "traceback": [
      "\u001b[1;31m---------------------------------------------------------------------------\u001b[0m",
      "\u001b[1;31mTypeError\u001b[0m                                 Traceback (most recent call last)",
      "\u001b[1;32m<ipython-input-982-2bcaa816ed6d>\u001b[0m in \u001b[0;36m<module>\u001b[1;34m\u001b[0m\n\u001b[0;32m      4\u001b[0m \u001b[1;31m# get the feature importance for top num and sort in reverse order\u001b[0m\u001b[1;33m\u001b[0m\u001b[1;33m\u001b[0m\u001b[1;33m\u001b[0m\u001b[0m\n\u001b[0;32m      5\u001b[0m \u001b[0mvalues_to_plot\u001b[0m \u001b[1;33m=\u001b[0m \u001b[0mfeature_importances\u001b[0m\u001b[1;33m.\u001b[0m\u001b[0miloc\u001b[0m\u001b[1;33m[\u001b[0m\u001b[1;33m:\u001b[0m\u001b[0mnum\u001b[0m\u001b[1;33m]\u001b[0m\u001b[1;33m.\u001b[0m\u001b[0mvalues\u001b[0m\u001b[1;33m.\u001b[0m\u001b[0mravel\u001b[0m\u001b[1;33m(\u001b[0m\u001b[1;33m)\u001b[0m\u001b[1;33m[\u001b[0m\u001b[1;33m:\u001b[0m\u001b[1;33m:\u001b[0m\u001b[1;33m-\u001b[0m\u001b[1;36m1\u001b[0m\u001b[1;33m]\u001b[0m\u001b[1;33m\u001b[0m\u001b[1;33m\u001b[0m\u001b[0m\n\u001b[1;32m----> 6\u001b[1;33m \u001b[0mfeature_labels\u001b[0m \u001b[1;33m=\u001b[0m \u001b[0mlen\u001b[0m\u001b[1;33m[\u001b[0m\u001b[1;33m(\u001b[0m\u001b[0mfeature_importances\u001b[0m\u001b[1;33m.\u001b[0m\u001b[0miloc\u001b[0m\u001b[1;33m[\u001b[0m\u001b[1;33m:\u001b[0m\u001b[0mnum\u001b[0m\u001b[1;33m]\u001b[0m\u001b[1;33m)\u001b[0m\u001b[1;33m.\u001b[0m\u001b[0mindex\u001b[0m\u001b[1;33m]\u001b[0m\u001b[1;33m[\u001b[0m\u001b[1;33m:\u001b[0m\u001b[1;33m:\u001b[0m\u001b[1;33m-\u001b[0m\u001b[1;36m1\u001b[0m\u001b[1;33m]\u001b[0m\u001b[1;33m\u001b[0m\u001b[1;33m\u001b[0m\u001b[0m\n\u001b[0m\u001b[0;32m      7\u001b[0m \u001b[0mplt\u001b[0m\u001b[1;33m.\u001b[0m\u001b[0mfigure\u001b[0m\u001b[1;33m(\u001b[0m\u001b[0mnum\u001b[0m\u001b[1;33m=\u001b[0m\u001b[1;32mNone\u001b[0m\u001b[1;33m,\u001b[0m \u001b[0mfigsize\u001b[0m\u001b[1;33m=\u001b[0m\u001b[1;33m(\u001b[0m\u001b[1;36m6\u001b[0m\u001b[1;33m,\u001b[0m \u001b[1;36m6\u001b[0m\u001b[1;33m)\u001b[0m\u001b[1;33m,\u001b[0m \u001b[0mdpi\u001b[0m\u001b[1;33m=\u001b[0m\u001b[1;36m80\u001b[0m\u001b[1;33m,\u001b[0m \u001b[0mfacecolor\u001b[0m\u001b[1;33m=\u001b[0m\u001b[1;34m'w'\u001b[0m\u001b[1;33m,\u001b[0m \u001b[0medgecolor\u001b[0m\u001b[1;33m=\u001b[0m\u001b[1;34m'k'\u001b[0m\u001b[1;33m)\u001b[0m\u001b[1;33m;\u001b[0m\u001b[1;33m\u001b[0m\u001b[1;33m\u001b[0m\u001b[0m\n\u001b[0;32m      8\u001b[0m \u001b[0mplt\u001b[0m\u001b[1;33m.\u001b[0m\u001b[0mbarh\u001b[0m\u001b[1;33m(\u001b[0m\u001b[0mylocs\u001b[0m\u001b[1;33m,\u001b[0m \u001b[0mvalues_to_plot\u001b[0m\u001b[1;33m,\u001b[0m \u001b[0malign\u001b[0m \u001b[1;33m=\u001b[0m \u001b[1;34m'center'\u001b[0m\u001b[1;33m)\u001b[0m\u001b[1;33m\u001b[0m\u001b[1;33m\u001b[0m\u001b[0m\n",
      "\u001b[1;31mTypeError\u001b[0m: 'builtin_function_or_method' object is not subscriptable"
     ]
    }
   ],
   "source": [
    "feature_importances = pd.DataFrame(rf.feature_importances_, index = col2use,columns=['importance']).sort_values('importance',ascending=False)\n",
    "num = min([50,len(col2use)])\n",
    "ylocs = np.arange(num)\n",
    "# get the feature importance for top num and sort in reverse order\n",
    "values_to_plot = feature_importances.iloc[:num].values.ravel()[::-1]\n",
    "feature_labels = len[(feature_importances.iloc[:num]).index][::-1]\n",
    "plt.figure(num=None, figsize=(6, 6), dpi=80, facecolor='w', edgecolor='k');\n",
    "plt.barh(ylocs, values_to_plot, align = 'center')\n",
    "plt.ylabel('Features')\n",
    "plt.xlabel('Importance Score')\n",
    "plt.title('Feature Importance Score — Random Forest')\n",
    "plt.yticks(ylocs, feature_labels)\n",
    "plt.show()"
   ]
  },
  {
   "cell_type": "code",
   "execution_count": null,
   "metadata": {},
   "outputs": [],
   "source": []
  },
  {
   "cell_type": "code",
   "execution_count": null,
   "metadata": {},
   "outputs": [],
   "source": []
  }
 ],
 "metadata": {
  "kernelspec": {
   "display_name": "Python 3",
   "language": "python",
   "name": "python3"
  },
  "language_info": {
   "codemirror_mode": {
    "name": "ipython",
    "version": 3
   },
   "file_extension": ".py",
   "mimetype": "text/x-python",
   "name": "python",
   "nbconvert_exporter": "python",
   "pygments_lexer": "ipython3",
   "version": "3.7.5"
  }
 },
 "nbformat": 4,
 "nbformat_minor": 2
}
